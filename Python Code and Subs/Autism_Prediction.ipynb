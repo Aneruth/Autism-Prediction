{
  "cells": [
    {
      "cell_type": "code",
      "execution_count": 1,
      "metadata": {
        "id": "K4plmyRYhU6N"
      },
      "outputs": [],
      "source": [
        "import pandas as pd\n",
        "from sklearn import preprocessing"
      ]
    },
    {
      "cell_type": "code",
      "execution_count": 3,
      "metadata": {
        "id": "s4Awr9tBhfpX"
      },
      "outputs": [],
      "source": [
        "train = pd.read_csv('../Data/train.csv')\n",
        "test = pd.read_csv('../Data/test.csv')"
      ]
    },
    {
      "cell_type": "code",
      "execution_count": 4,
      "metadata": {
        "colab": {
          "base_uri": "https://localhost:8080/",
          "height": 282
        },
        "id": "FFAOKLRShqk7",
        "outputId": "e7c9491d-eb0b-4cc9-f0d5-79ac67f875c1"
      },
      "outputs": [
        {
          "data": {
            "text/html": [
              "<div>\n",
              "<style scoped>\n",
              "    .dataframe tbody tr th:only-of-type {\n",
              "        vertical-align: middle;\n",
              "    }\n",
              "\n",
              "    .dataframe tbody tr th {\n",
              "        vertical-align: top;\n",
              "    }\n",
              "\n",
              "    .dataframe thead th {\n",
              "        text-align: right;\n",
              "    }\n",
              "</style>\n",
              "<table border=\"1\" class=\"dataframe\">\n",
              "  <thead>\n",
              "    <tr style=\"text-align: right;\">\n",
              "      <th></th>\n",
              "      <th>ID</th>\n",
              "      <th>A1_Score</th>\n",
              "      <th>A2_Score</th>\n",
              "      <th>A3_Score</th>\n",
              "      <th>A4_Score</th>\n",
              "      <th>A5_Score</th>\n",
              "      <th>A6_Score</th>\n",
              "      <th>A7_Score</th>\n",
              "      <th>A8_Score</th>\n",
              "      <th>A9_Score</th>\n",
              "      <th>...</th>\n",
              "      <th>gender</th>\n",
              "      <th>ethnicity</th>\n",
              "      <th>jaundice</th>\n",
              "      <th>austim</th>\n",
              "      <th>contry_of_res</th>\n",
              "      <th>used_app_before</th>\n",
              "      <th>result</th>\n",
              "      <th>age_desc</th>\n",
              "      <th>relation</th>\n",
              "      <th>Class/ASD</th>\n",
              "    </tr>\n",
              "  </thead>\n",
              "  <tbody>\n",
              "    <tr>\n",
              "      <th>0</th>\n",
              "      <td>1</td>\n",
              "      <td>1</td>\n",
              "      <td>0</td>\n",
              "      <td>1</td>\n",
              "      <td>0</td>\n",
              "      <td>1</td>\n",
              "      <td>0</td>\n",
              "      <td>1</td>\n",
              "      <td>0</td>\n",
              "      <td>1</td>\n",
              "      <td>...</td>\n",
              "      <td>f</td>\n",
              "      <td>?</td>\n",
              "      <td>no</td>\n",
              "      <td>no</td>\n",
              "      <td>Austria</td>\n",
              "      <td>no</td>\n",
              "      <td>6.351166</td>\n",
              "      <td>18 and more</td>\n",
              "      <td>Self</td>\n",
              "      <td>0</td>\n",
              "    </tr>\n",
              "    <tr>\n",
              "      <th>1</th>\n",
              "      <td>2</td>\n",
              "      <td>0</td>\n",
              "      <td>0</td>\n",
              "      <td>0</td>\n",
              "      <td>0</td>\n",
              "      <td>0</td>\n",
              "      <td>0</td>\n",
              "      <td>0</td>\n",
              "      <td>0</td>\n",
              "      <td>0</td>\n",
              "      <td>...</td>\n",
              "      <td>m</td>\n",
              "      <td>?</td>\n",
              "      <td>no</td>\n",
              "      <td>no</td>\n",
              "      <td>India</td>\n",
              "      <td>no</td>\n",
              "      <td>2.255185</td>\n",
              "      <td>18 and more</td>\n",
              "      <td>Self</td>\n",
              "      <td>0</td>\n",
              "    </tr>\n",
              "    <tr>\n",
              "      <th>2</th>\n",
              "      <td>3</td>\n",
              "      <td>1</td>\n",
              "      <td>1</td>\n",
              "      <td>1</td>\n",
              "      <td>1</td>\n",
              "      <td>1</td>\n",
              "      <td>1</td>\n",
              "      <td>1</td>\n",
              "      <td>1</td>\n",
              "      <td>1</td>\n",
              "      <td>...</td>\n",
              "      <td>m</td>\n",
              "      <td>White-European</td>\n",
              "      <td>no</td>\n",
              "      <td>yes</td>\n",
              "      <td>United States</td>\n",
              "      <td>no</td>\n",
              "      <td>14.851484</td>\n",
              "      <td>18 and more</td>\n",
              "      <td>Self</td>\n",
              "      <td>1</td>\n",
              "    </tr>\n",
              "  </tbody>\n",
              "</table>\n",
              "<p>3 rows × 22 columns</p>\n",
              "</div>"
            ],
            "text/plain": [
              "   ID  A1_Score  A2_Score  A3_Score  A4_Score  A5_Score  A6_Score  A7_Score  \\\n",
              "0   1         1         0         1         0         1         0         1   \n",
              "1   2         0         0         0         0         0         0         0   \n",
              "2   3         1         1         1         1         1         1         1   \n",
              "\n",
              "   A8_Score  A9_Score  ...  gender       ethnicity jaundice austim  \\\n",
              "0         0         1  ...       f               ?       no     no   \n",
              "1         0         0  ...       m               ?       no     no   \n",
              "2         1         1  ...       m  White-European       no    yes   \n",
              "\n",
              "   contry_of_res used_app_before     result     age_desc  relation Class/ASD  \n",
              "0        Austria              no   6.351166  18 and more      Self         0  \n",
              "1          India              no   2.255185  18 and more      Self         0  \n",
              "2  United States              no  14.851484  18 and more      Self         1  \n",
              "\n",
              "[3 rows x 22 columns]"
            ]
          },
          "execution_count": 4,
          "metadata": {},
          "output_type": "execute_result"
        }
      ],
      "source": [
        "train.head(3)"
      ]
    },
    {
      "cell_type": "code",
      "execution_count": 5,
      "metadata": {
        "colab": {
          "base_uri": "https://localhost:8080/",
          "height": 282
        },
        "id": "20d73Aa4hsbD",
        "outputId": "cae86531-bccd-48ed-cb8d-bc166691c3c3"
      },
      "outputs": [
        {
          "data": {
            "text/html": [
              "<div>\n",
              "<style scoped>\n",
              "    .dataframe tbody tr th:only-of-type {\n",
              "        vertical-align: middle;\n",
              "    }\n",
              "\n",
              "    .dataframe tbody tr th {\n",
              "        vertical-align: top;\n",
              "    }\n",
              "\n",
              "    .dataframe thead th {\n",
              "        text-align: right;\n",
              "    }\n",
              "</style>\n",
              "<table border=\"1\" class=\"dataframe\">\n",
              "  <thead>\n",
              "    <tr style=\"text-align: right;\">\n",
              "      <th></th>\n",
              "      <th>ID</th>\n",
              "      <th>A1_Score</th>\n",
              "      <th>A2_Score</th>\n",
              "      <th>A3_Score</th>\n",
              "      <th>A4_Score</th>\n",
              "      <th>A5_Score</th>\n",
              "      <th>A6_Score</th>\n",
              "      <th>A7_Score</th>\n",
              "      <th>A8_Score</th>\n",
              "      <th>A9_Score</th>\n",
              "      <th>...</th>\n",
              "      <th>age</th>\n",
              "      <th>gender</th>\n",
              "      <th>ethnicity</th>\n",
              "      <th>jaundice</th>\n",
              "      <th>austim</th>\n",
              "      <th>contry_of_res</th>\n",
              "      <th>used_app_before</th>\n",
              "      <th>result</th>\n",
              "      <th>age_desc</th>\n",
              "      <th>relation</th>\n",
              "    </tr>\n",
              "  </thead>\n",
              "  <tbody>\n",
              "    <tr>\n",
              "      <th>0</th>\n",
              "      <td>1</td>\n",
              "      <td>1</td>\n",
              "      <td>1</td>\n",
              "      <td>0</td>\n",
              "      <td>0</td>\n",
              "      <td>1</td>\n",
              "      <td>1</td>\n",
              "      <td>0</td>\n",
              "      <td>0</td>\n",
              "      <td>1</td>\n",
              "      <td>...</td>\n",
              "      <td>15.599481</td>\n",
              "      <td>m</td>\n",
              "      <td>White-European</td>\n",
              "      <td>yes</td>\n",
              "      <td>no</td>\n",
              "      <td>India</td>\n",
              "      <td>no</td>\n",
              "      <td>12.399055</td>\n",
              "      <td>18 and more</td>\n",
              "      <td>Self</td>\n",
              "    </tr>\n",
              "    <tr>\n",
              "      <th>1</th>\n",
              "      <td>2</td>\n",
              "      <td>1</td>\n",
              "      <td>0</td>\n",
              "      <td>0</td>\n",
              "      <td>0</td>\n",
              "      <td>0</td>\n",
              "      <td>0</td>\n",
              "      <td>0</td>\n",
              "      <td>1</td>\n",
              "      <td>0</td>\n",
              "      <td>...</td>\n",
              "      <td>27.181099</td>\n",
              "      <td>m</td>\n",
              "      <td>Asian</td>\n",
              "      <td>no</td>\n",
              "      <td>no</td>\n",
              "      <td>Mexico</td>\n",
              "      <td>no</td>\n",
              "      <td>6.551598</td>\n",
              "      <td>18 and more</td>\n",
              "      <td>Self</td>\n",
              "    </tr>\n",
              "    <tr>\n",
              "      <th>2</th>\n",
              "      <td>3</td>\n",
              "      <td>1</td>\n",
              "      <td>1</td>\n",
              "      <td>1</td>\n",
              "      <td>0</td>\n",
              "      <td>1</td>\n",
              "      <td>1</td>\n",
              "      <td>0</td>\n",
              "      <td>1</td>\n",
              "      <td>1</td>\n",
              "      <td>...</td>\n",
              "      <td>31.643906</td>\n",
              "      <td>m</td>\n",
              "      <td>White-European</td>\n",
              "      <td>yes</td>\n",
              "      <td>no</td>\n",
              "      <td>Egypt</td>\n",
              "      <td>no</td>\n",
              "      <td>3.180663</td>\n",
              "      <td>18 and more</td>\n",
              "      <td>Self</td>\n",
              "    </tr>\n",
              "  </tbody>\n",
              "</table>\n",
              "<p>3 rows × 21 columns</p>\n",
              "</div>"
            ],
            "text/plain": [
              "   ID  A1_Score  A2_Score  A3_Score  A4_Score  A5_Score  A6_Score  A7_Score  \\\n",
              "0   1         1         1         0         0         1         1         0   \n",
              "1   2         1         0         0         0         0         0         0   \n",
              "2   3         1         1         1         0         1         1         0   \n",
              "\n",
              "   A8_Score  A9_Score  ...        age  gender       ethnicity jaundice austim  \\\n",
              "0         0         1  ...  15.599481       m  White-European      yes     no   \n",
              "1         1         0  ...  27.181099       m           Asian       no     no   \n",
              "2         1         1  ...  31.643906       m  White-European      yes     no   \n",
              "\n",
              "  contry_of_res used_app_before     result     age_desc relation  \n",
              "0         India              no  12.399055  18 and more     Self  \n",
              "1        Mexico              no   6.551598  18 and more     Self  \n",
              "2         Egypt              no   3.180663  18 and more     Self  \n",
              "\n",
              "[3 rows x 21 columns]"
            ]
          },
          "execution_count": 5,
          "metadata": {},
          "output_type": "execute_result"
        }
      ],
      "source": [
        "test.head(3)"
      ]
    },
    {
      "cell_type": "code",
      "execution_count": 6,
      "metadata": {
        "id": "2AJqhruzhwfU"
      },
      "outputs": [],
      "source": [
        "le = preprocessing.LabelEncoder()"
      ]
    },
    {
      "cell_type": "code",
      "execution_count": 7,
      "metadata": {
        "id": "gAvlRG0FiFQB"
      },
      "outputs": [],
      "source": [
        "train.drop('ID',inplace=True,axis=1)"
      ]
    },
    {
      "cell_type": "code",
      "execution_count": 8,
      "metadata": {
        "colab": {
          "base_uri": "https://localhost:8080/",
          "height": 642
        },
        "id": "P_B3neHiiLh3",
        "outputId": "22b4ddb2-0c9a-4a32-fc18-8e1049040666"
      },
      "outputs": [
        {
          "data": {
            "text/html": [
              "<div>\n",
              "<style scoped>\n",
              "    .dataframe tbody tr th:only-of-type {\n",
              "        vertical-align: middle;\n",
              "    }\n",
              "\n",
              "    .dataframe tbody tr th {\n",
              "        vertical-align: top;\n",
              "    }\n",
              "\n",
              "    .dataframe thead th {\n",
              "        text-align: right;\n",
              "    }\n",
              "</style>\n",
              "<table border=\"1\" class=\"dataframe\">\n",
              "  <thead>\n",
              "    <tr style=\"text-align: right;\">\n",
              "      <th></th>\n",
              "      <th>A1_Score</th>\n",
              "      <th>A2_Score</th>\n",
              "      <th>A3_Score</th>\n",
              "      <th>A4_Score</th>\n",
              "      <th>A5_Score</th>\n",
              "      <th>A6_Score</th>\n",
              "      <th>A7_Score</th>\n",
              "      <th>A8_Score</th>\n",
              "      <th>A9_Score</th>\n",
              "      <th>A10_Score</th>\n",
              "      <th>...</th>\n",
              "      <th>gender</th>\n",
              "      <th>ethnicity</th>\n",
              "      <th>jaundice</th>\n",
              "      <th>austim</th>\n",
              "      <th>contry_of_res</th>\n",
              "      <th>used_app_before</th>\n",
              "      <th>result</th>\n",
              "      <th>age_desc</th>\n",
              "      <th>relation</th>\n",
              "      <th>Class/ASD</th>\n",
              "    </tr>\n",
              "  </thead>\n",
              "  <tbody>\n",
              "    <tr>\n",
              "      <th>0</th>\n",
              "      <td>1</td>\n",
              "      <td>0</td>\n",
              "      <td>1</td>\n",
              "      <td>0</td>\n",
              "      <td>1</td>\n",
              "      <td>0</td>\n",
              "      <td>1</td>\n",
              "      <td>0</td>\n",
              "      <td>1</td>\n",
              "      <td>1</td>\n",
              "      <td>...</td>\n",
              "      <td>f</td>\n",
              "      <td>?</td>\n",
              "      <td>no</td>\n",
              "      <td>no</td>\n",
              "      <td>Austria</td>\n",
              "      <td>no</td>\n",
              "      <td>6.351166</td>\n",
              "      <td>18 and more</td>\n",
              "      <td>Self</td>\n",
              "      <td>0</td>\n",
              "    </tr>\n",
              "    <tr>\n",
              "      <th>1</th>\n",
              "      <td>0</td>\n",
              "      <td>0</td>\n",
              "      <td>0</td>\n",
              "      <td>0</td>\n",
              "      <td>0</td>\n",
              "      <td>0</td>\n",
              "      <td>0</td>\n",
              "      <td>0</td>\n",
              "      <td>0</td>\n",
              "      <td>0</td>\n",
              "      <td>...</td>\n",
              "      <td>m</td>\n",
              "      <td>?</td>\n",
              "      <td>no</td>\n",
              "      <td>no</td>\n",
              "      <td>India</td>\n",
              "      <td>no</td>\n",
              "      <td>2.255185</td>\n",
              "      <td>18 and more</td>\n",
              "      <td>Self</td>\n",
              "      <td>0</td>\n",
              "    </tr>\n",
              "  </tbody>\n",
              "</table>\n",
              "<p>2 rows × 21 columns</p>\n",
              "</div>"
            ],
            "text/plain": [
              "   A1_Score  A2_Score  A3_Score  A4_Score  A5_Score  A6_Score  A7_Score  \\\n",
              "0         1         0         1         0         1         0         1   \n",
              "1         0         0         0         0         0         0         0   \n",
              "\n",
              "   A8_Score  A9_Score  A10_Score  ...  gender ethnicity jaundice austim  \\\n",
              "0         0         1          1  ...       f         ?       no     no   \n",
              "1         0         0          0  ...       m         ?       no     no   \n",
              "\n",
              "  contry_of_res used_app_before    result     age_desc relation Class/ASD  \n",
              "0       Austria              no  6.351166  18 and more     Self         0  \n",
              "1         India              no  2.255185  18 and more     Self         0  \n",
              "\n",
              "[2 rows x 21 columns]"
            ]
          },
          "execution_count": 8,
          "metadata": {},
          "output_type": "execute_result"
        }
      ],
      "source": [
        "train.head(2)"
      ]
    },
    {
      "cell_type": "code",
      "execution_count": 9,
      "metadata": {
        "id": "JdICRzqAh1hp"
      },
      "outputs": [],
      "source": [
        "def encodeLabels(dataset):\n",
        "  for i in dataset.columns:\n",
        "    if dataset[i].nunique() >= 2 and dataset[i].dtype == 'O':\n",
        "      dataset[i] = list(le.fit_transform(dataset[i]))\n",
        "  return dataset"
      ]
    },
    {
      "cell_type": "code",
      "execution_count": 10,
      "metadata": {
        "id": "B7HEwLyv1Vud"
      },
      "outputs": [],
      "source": [
        "train = encodeLabels(train)\n",
        "test = encodeLabels(test)"
      ]
    },
    {
      "cell_type": "code",
      "execution_count": 11,
      "metadata": {
        "colab": {
          "base_uri": "https://localhost:8080/",
          "height": 235
        },
        "id": "Zl5i9b551aQJ",
        "outputId": "ead2dd5e-8263-41f3-8d46-eb0eee22288e"
      },
      "outputs": [
        {
          "data": {
            "text/html": [
              "<div>\n",
              "<style scoped>\n",
              "    .dataframe tbody tr th:only-of-type {\n",
              "        vertical-align: middle;\n",
              "    }\n",
              "\n",
              "    .dataframe tbody tr th {\n",
              "        vertical-align: top;\n",
              "    }\n",
              "\n",
              "    .dataframe thead th {\n",
              "        text-align: right;\n",
              "    }\n",
              "</style>\n",
              "<table border=\"1\" class=\"dataframe\">\n",
              "  <thead>\n",
              "    <tr style=\"text-align: right;\">\n",
              "      <th></th>\n",
              "      <th>A1_Score</th>\n",
              "      <th>A2_Score</th>\n",
              "      <th>A3_Score</th>\n",
              "      <th>A4_Score</th>\n",
              "      <th>A5_Score</th>\n",
              "      <th>A6_Score</th>\n",
              "      <th>A7_Score</th>\n",
              "      <th>A8_Score</th>\n",
              "      <th>A9_Score</th>\n",
              "      <th>A10_Score</th>\n",
              "      <th>...</th>\n",
              "      <th>gender</th>\n",
              "      <th>ethnicity</th>\n",
              "      <th>jaundice</th>\n",
              "      <th>austim</th>\n",
              "      <th>contry_of_res</th>\n",
              "      <th>used_app_before</th>\n",
              "      <th>result</th>\n",
              "      <th>age_desc</th>\n",
              "      <th>relation</th>\n",
              "      <th>Class/ASD</th>\n",
              "    </tr>\n",
              "  </thead>\n",
              "  <tbody>\n",
              "    <tr>\n",
              "      <th>0</th>\n",
              "      <td>1</td>\n",
              "      <td>0</td>\n",
              "      <td>1</td>\n",
              "      <td>0</td>\n",
              "      <td>1</td>\n",
              "      <td>0</td>\n",
              "      <td>1</td>\n",
              "      <td>0</td>\n",
              "      <td>1</td>\n",
              "      <td>1</td>\n",
              "      <td>...</td>\n",
              "      <td>0</td>\n",
              "      <td>0</td>\n",
              "      <td>0</td>\n",
              "      <td>0</td>\n",
              "      <td>7</td>\n",
              "      <td>0</td>\n",
              "      <td>6.351166</td>\n",
              "      <td>18 and more</td>\n",
              "      <td>5</td>\n",
              "      <td>0</td>\n",
              "    </tr>\n",
              "    <tr>\n",
              "      <th>1</th>\n",
              "      <td>0</td>\n",
              "      <td>0</td>\n",
              "      <td>0</td>\n",
              "      <td>0</td>\n",
              "      <td>0</td>\n",
              "      <td>0</td>\n",
              "      <td>0</td>\n",
              "      <td>0</td>\n",
              "      <td>0</td>\n",
              "      <td>0</td>\n",
              "      <td>...</td>\n",
              "      <td>1</td>\n",
              "      <td>0</td>\n",
              "      <td>0</td>\n",
              "      <td>0</td>\n",
              "      <td>25</td>\n",
              "      <td>0</td>\n",
              "      <td>2.255185</td>\n",
              "      <td>18 and more</td>\n",
              "      <td>5</td>\n",
              "      <td>0</td>\n",
              "    </tr>\n",
              "  </tbody>\n",
              "</table>\n",
              "<p>2 rows × 21 columns</p>\n",
              "</div>"
            ],
            "text/plain": [
              "   A1_Score  A2_Score  A3_Score  A4_Score  A5_Score  A6_Score  A7_Score  \\\n",
              "0         1         0         1         0         1         0         1   \n",
              "1         0         0         0         0         0         0         0   \n",
              "\n",
              "   A8_Score  A9_Score  A10_Score  ...  gender  ethnicity  jaundice  austim  \\\n",
              "0         0         1          1  ...       0          0         0       0   \n",
              "1         0         0          0  ...       1          0         0       0   \n",
              "\n",
              "   contry_of_res  used_app_before    result     age_desc relation  Class/ASD  \n",
              "0              7                0  6.351166  18 and more        5          0  \n",
              "1             25                0  2.255185  18 and more        5          0  \n",
              "\n",
              "[2 rows x 21 columns]"
            ]
          },
          "execution_count": 11,
          "metadata": {},
          "output_type": "execute_result"
        }
      ],
      "source": [
        "train.head(2)"
      ]
    },
    {
      "cell_type": "code",
      "execution_count": 12,
      "metadata": {
        "colab": {
          "base_uri": "https://localhost:8080/",
          "height": 235
        },
        "id": "XRX-h4bi1bYu",
        "outputId": "7a2921f5-9073-496d-c8cb-49fed92c7bd0"
      },
      "outputs": [
        {
          "data": {
            "text/html": [
              "<div>\n",
              "<style scoped>\n",
              "    .dataframe tbody tr th:only-of-type {\n",
              "        vertical-align: middle;\n",
              "    }\n",
              "\n",
              "    .dataframe tbody tr th {\n",
              "        vertical-align: top;\n",
              "    }\n",
              "\n",
              "    .dataframe thead th {\n",
              "        text-align: right;\n",
              "    }\n",
              "</style>\n",
              "<table border=\"1\" class=\"dataframe\">\n",
              "  <thead>\n",
              "    <tr style=\"text-align: right;\">\n",
              "      <th></th>\n",
              "      <th>ID</th>\n",
              "      <th>A1_Score</th>\n",
              "      <th>A2_Score</th>\n",
              "      <th>A3_Score</th>\n",
              "      <th>A4_Score</th>\n",
              "      <th>A5_Score</th>\n",
              "      <th>A6_Score</th>\n",
              "      <th>A7_Score</th>\n",
              "      <th>A8_Score</th>\n",
              "      <th>A9_Score</th>\n",
              "      <th>...</th>\n",
              "      <th>age</th>\n",
              "      <th>gender</th>\n",
              "      <th>ethnicity</th>\n",
              "      <th>jaundice</th>\n",
              "      <th>austim</th>\n",
              "      <th>contry_of_res</th>\n",
              "      <th>used_app_before</th>\n",
              "      <th>result</th>\n",
              "      <th>age_desc</th>\n",
              "      <th>relation</th>\n",
              "    </tr>\n",
              "  </thead>\n",
              "  <tbody>\n",
              "    <tr>\n",
              "      <th>0</th>\n",
              "      <td>1</td>\n",
              "      <td>1</td>\n",
              "      <td>1</td>\n",
              "      <td>0</td>\n",
              "      <td>0</td>\n",
              "      <td>1</td>\n",
              "      <td>1</td>\n",
              "      <td>0</td>\n",
              "      <td>0</td>\n",
              "      <td>1</td>\n",
              "      <td>...</td>\n",
              "      <td>15.599481</td>\n",
              "      <td>1</td>\n",
              "      <td>10</td>\n",
              "      <td>1</td>\n",
              "      <td>0</td>\n",
              "      <td>14</td>\n",
              "      <td>0</td>\n",
              "      <td>12.399055</td>\n",
              "      <td>18 and more</td>\n",
              "      <td>5</td>\n",
              "    </tr>\n",
              "    <tr>\n",
              "      <th>1</th>\n",
              "      <td>2</td>\n",
              "      <td>1</td>\n",
              "      <td>0</td>\n",
              "      <td>0</td>\n",
              "      <td>0</td>\n",
              "      <td>0</td>\n",
              "      <td>0</td>\n",
              "      <td>0</td>\n",
              "      <td>1</td>\n",
              "      <td>0</td>\n",
              "      <td>...</td>\n",
              "      <td>27.181099</td>\n",
              "      <td>1</td>\n",
              "      <td>1</td>\n",
              "      <td>0</td>\n",
              "      <td>0</td>\n",
              "      <td>21</td>\n",
              "      <td>0</td>\n",
              "      <td>6.551598</td>\n",
              "      <td>18 and more</td>\n",
              "      <td>5</td>\n",
              "    </tr>\n",
              "  </tbody>\n",
              "</table>\n",
              "<p>2 rows × 21 columns</p>\n",
              "</div>"
            ],
            "text/plain": [
              "   ID  A1_Score  A2_Score  A3_Score  A4_Score  A5_Score  A6_Score  A7_Score  \\\n",
              "0   1         1         1         0         0         1         1         0   \n",
              "1   2         1         0         0         0         0         0         0   \n",
              "\n",
              "   A8_Score  A9_Score  ...        age  gender  ethnicity  jaundice  austim  \\\n",
              "0         0         1  ...  15.599481       1         10         1       0   \n",
              "1         1         0  ...  27.181099       1          1         0       0   \n",
              "\n",
              "   contry_of_res  used_app_before     result     age_desc relation  \n",
              "0             14                0  12.399055  18 and more        5  \n",
              "1             21                0   6.551598  18 and more        5  \n",
              "\n",
              "[2 rows x 21 columns]"
            ]
          },
          "execution_count": 12,
          "metadata": {},
          "output_type": "execute_result"
        }
      ],
      "source": [
        "test.head(2)"
      ]
    },
    {
      "cell_type": "code",
      "execution_count": 13,
      "metadata": {
        "id": "ZdfEu18m1dtG"
      },
      "outputs": [],
      "source": [
        "id = test.ID\n",
        "test.drop('ID',inplace=True,axis=1)"
      ]
    },
    {
      "cell_type": "code",
      "execution_count": 14,
      "metadata": {
        "id": "PzJDdye91nxi"
      },
      "outputs": [],
      "source": [
        "train.drop('age_desc',inplace=True,axis=1)\n",
        "test.drop('age_desc',inplace=True,axis=1)"
      ]
    },
    {
      "cell_type": "code",
      "execution_count": 15,
      "metadata": {
        "id": "sNZgm5b62F_6"
      },
      "outputs": [],
      "source": [
        "# convert float to int\n",
        "train['age'] = train.age.astype('int')\n",
        "train['result'] = train.result.astype('int')\n",
        "\n",
        "test['age'] = test.age.astype('int')\n",
        "test['result'] = test.result.astype('int')"
      ]
    },
    {
      "cell_type": "code",
      "execution_count": 16,
      "metadata": {
        "colab": {
          "base_uri": "https://localhost:8080/",
          "height": 235
        },
        "id": "L5RZ78dv2oU4",
        "outputId": "380dcbad-1b2b-4348-b68b-aa035965d10f"
      },
      "outputs": [
        {
          "data": {
            "text/html": [
              "<div>\n",
              "<style scoped>\n",
              "    .dataframe tbody tr th:only-of-type {\n",
              "        vertical-align: middle;\n",
              "    }\n",
              "\n",
              "    .dataframe tbody tr th {\n",
              "        vertical-align: top;\n",
              "    }\n",
              "\n",
              "    .dataframe thead th {\n",
              "        text-align: right;\n",
              "    }\n",
              "</style>\n",
              "<table border=\"1\" class=\"dataframe\">\n",
              "  <thead>\n",
              "    <tr style=\"text-align: right;\">\n",
              "      <th></th>\n",
              "      <th>A1_Score</th>\n",
              "      <th>A2_Score</th>\n",
              "      <th>A3_Score</th>\n",
              "      <th>A4_Score</th>\n",
              "      <th>A5_Score</th>\n",
              "      <th>A6_Score</th>\n",
              "      <th>A7_Score</th>\n",
              "      <th>A8_Score</th>\n",
              "      <th>A9_Score</th>\n",
              "      <th>A10_Score</th>\n",
              "      <th>age</th>\n",
              "      <th>gender</th>\n",
              "      <th>ethnicity</th>\n",
              "      <th>jaundice</th>\n",
              "      <th>austim</th>\n",
              "      <th>contry_of_res</th>\n",
              "      <th>used_app_before</th>\n",
              "      <th>result</th>\n",
              "      <th>relation</th>\n",
              "      <th>Class/ASD</th>\n",
              "    </tr>\n",
              "  </thead>\n",
              "  <tbody>\n",
              "    <tr>\n",
              "      <th>0</th>\n",
              "      <td>1</td>\n",
              "      <td>0</td>\n",
              "      <td>1</td>\n",
              "      <td>0</td>\n",
              "      <td>1</td>\n",
              "      <td>0</td>\n",
              "      <td>1</td>\n",
              "      <td>0</td>\n",
              "      <td>1</td>\n",
              "      <td>1</td>\n",
              "      <td>38</td>\n",
              "      <td>0</td>\n",
              "      <td>0</td>\n",
              "      <td>0</td>\n",
              "      <td>0</td>\n",
              "      <td>7</td>\n",
              "      <td>0</td>\n",
              "      <td>6</td>\n",
              "      <td>5</td>\n",
              "      <td>0</td>\n",
              "    </tr>\n",
              "    <tr>\n",
              "      <th>1</th>\n",
              "      <td>0</td>\n",
              "      <td>0</td>\n",
              "      <td>0</td>\n",
              "      <td>0</td>\n",
              "      <td>0</td>\n",
              "      <td>0</td>\n",
              "      <td>0</td>\n",
              "      <td>0</td>\n",
              "      <td>0</td>\n",
              "      <td>0</td>\n",
              "      <td>47</td>\n",
              "      <td>1</td>\n",
              "      <td>0</td>\n",
              "      <td>0</td>\n",
              "      <td>0</td>\n",
              "      <td>25</td>\n",
              "      <td>0</td>\n",
              "      <td>2</td>\n",
              "      <td>5</td>\n",
              "      <td>0</td>\n",
              "    </tr>\n",
              "    <tr>\n",
              "      <th>2</th>\n",
              "      <td>1</td>\n",
              "      <td>1</td>\n",
              "      <td>1</td>\n",
              "      <td>1</td>\n",
              "      <td>1</td>\n",
              "      <td>1</td>\n",
              "      <td>1</td>\n",
              "      <td>1</td>\n",
              "      <td>1</td>\n",
              "      <td>1</td>\n",
              "      <td>7</td>\n",
              "      <td>1</td>\n",
              "      <td>10</td>\n",
              "      <td>0</td>\n",
              "      <td>1</td>\n",
              "      <td>54</td>\n",
              "      <td>0</td>\n",
              "      <td>14</td>\n",
              "      <td>5</td>\n",
              "      <td>1</td>\n",
              "    </tr>\n",
              "    <tr>\n",
              "      <th>3</th>\n",
              "      <td>0</td>\n",
              "      <td>0</td>\n",
              "      <td>0</td>\n",
              "      <td>0</td>\n",
              "      <td>0</td>\n",
              "      <td>0</td>\n",
              "      <td>0</td>\n",
              "      <td>0</td>\n",
              "      <td>0</td>\n",
              "      <td>0</td>\n",
              "      <td>23</td>\n",
              "      <td>0</td>\n",
              "      <td>0</td>\n",
              "      <td>0</td>\n",
              "      <td>0</td>\n",
              "      <td>54</td>\n",
              "      <td>0</td>\n",
              "      <td>2</td>\n",
              "      <td>5</td>\n",
              "      <td>0</td>\n",
              "    </tr>\n",
              "  </tbody>\n",
              "</table>\n",
              "</div>"
            ],
            "text/plain": [
              "   A1_Score  A2_Score  A3_Score  A4_Score  A5_Score  A6_Score  A7_Score  \\\n",
              "0         1         0         1         0         1         0         1   \n",
              "1         0         0         0         0         0         0         0   \n",
              "2         1         1         1         1         1         1         1   \n",
              "3         0         0         0         0         0         0         0   \n",
              "\n",
              "   A8_Score  A9_Score  A10_Score  age  gender  ethnicity  jaundice  austim  \\\n",
              "0         0         1          1   38       0          0         0       0   \n",
              "1         0         0          0   47       1          0         0       0   \n",
              "2         1         1          1    7       1         10         0       1   \n",
              "3         0         0          0   23       0          0         0       0   \n",
              "\n",
              "   contry_of_res  used_app_before  result  relation  Class/ASD  \n",
              "0              7                0       6         5          0  \n",
              "1             25                0       2         5          0  \n",
              "2             54                0      14         5          1  \n",
              "3             54                0       2         5          0  "
            ]
          },
          "execution_count": 16,
          "metadata": {},
          "output_type": "execute_result"
        }
      ],
      "source": [
        "train.head(4)"
      ]
    },
    {
      "cell_type": "markdown",
      "metadata": {},
      "source": [
        "## Train Test Split the data"
      ]
    },
    {
      "cell_type": "code",
      "execution_count": 84,
      "metadata": {},
      "outputs": [],
      "source": [
        "from sklearn.model_selection import train_test_split"
      ]
    },
    {
      "cell_type": "code",
      "execution_count": 85,
      "metadata": {},
      "outputs": [],
      "source": [
        "X,y = train.drop('Class/ASD',axis=1),train['Class/ASD']\n",
        "y = y.astype('category')\n",
        "\n",
        "X_test, X_train, y_test, y_train = train_test_split(X, y, test_size=0.15, random_state=101,shuffle=True)"
      ]
    },
    {
      "cell_type": "markdown",
      "metadata": {
        "id": "RDsXxxlmTopr"
      },
      "source": [
        "## Neural Network"
      ]
    },
    {
      "cell_type": "code",
      "execution_count": 17,
      "metadata": {
        "id": "V0eV3gCXTnb3"
      },
      "outputs": [],
      "source": [
        "# for modeling\n",
        "from tensorflow import keras\n",
        "from keras.models import Sequential\n",
        "from keras.layers import Dense, Dropout\n",
        "from keras.callbacks import EarlyStopping"
      ]
    },
    {
      "cell_type": "code",
      "execution_count": 143,
      "metadata": {
        "colab": {
          "base_uri": "https://localhost:8080/"
        },
        "id": "5ABUNHRxTm2k",
        "outputId": "002d288d-714c-4e00-b9d4-c423f72621cb"
      },
      "outputs": [
        {
          "name": "stdout",
          "output_type": "stream",
          "text": [
            "Model: \"sequential_3\"\n",
            "_________________________________________________________________\n",
            " Layer (type)                Output Shape              Param #   \n",
            "=================================================================\n",
            " dense_24 (Dense)            (None, 512)               10240     \n",
            "                                                                 \n",
            " dropout_12 (Dropout)        (None, 512)               0         \n",
            "                                                                 \n",
            " dense_25 (Dense)            (None, 256)               131328    \n",
            "                                                                 \n",
            " dropout_13 (Dropout)        (None, 256)               0         \n",
            "                                                                 \n",
            " dense_26 (Dense)            (None, 128)               32896     \n",
            "                                                                 \n",
            " dense_27 (Dense)            (None, 64)                8256      \n",
            "                                                                 \n",
            " dropout_14 (Dropout)        (None, 64)                0         \n",
            "                                                                 \n",
            " dense_28 (Dense)            (None, 32)                2080      \n",
            "                                                                 \n",
            " dropout_15 (Dropout)        (None, 32)                0         \n",
            "                                                                 \n",
            " dense_29 (Dense)            (None, 16)                528       \n",
            "                                                                 \n",
            " dropout_16 (Dropout)        (None, 16)                0         \n",
            "                                                                 \n",
            " dense_30 (Dense)            (None, 8)                 136       \n",
            "                                                                 \n",
            " dropout_17 (Dropout)        (None, 8)                 0         \n",
            "                                                                 \n",
            " dense_31 (Dense)            (None, 1)                 9         \n",
            "                                                                 \n",
            "=================================================================\n",
            "Total params: 185,473\n",
            "Trainable params: 185,473\n",
            "Non-trainable params: 0\n",
            "_________________________________________________________________\n",
            "Epoch 1/80\n",
            "2/2 [==============================] - 1s 180ms/step - loss: 1.7327 - accuracy: 0.6583 - val_loss: 0.6879 - val_accuracy: 0.6000\n",
            "Epoch 2/80\n",
            "2/2 [==============================] - 0s 92ms/step - loss: 1.4736 - accuracy: 0.5667 - val_loss: 0.6680 - val_accuracy: 0.8074\n",
            "Epoch 3/80\n",
            "2/2 [==============================] - 0s 39ms/step - loss: 1.4177 - accuracy: 0.6000 - val_loss: 0.6807 - val_accuracy: 0.8074\n",
            "Epoch 4/80\n",
            "2/2 [==============================] - 0s 37ms/step - loss: 1.0265 - accuracy: 0.7000 - val_loss: 0.6824 - val_accuracy: 0.8074\n",
            "Epoch 5/80\n",
            "2/2 [==============================] - 0s 48ms/step - loss: 1.0188 - accuracy: 0.6833 - val_loss: 0.6848 - val_accuracy: 0.8074\n",
            "Epoch 6/80\n",
            "2/2 [==============================] - 0s 38ms/step - loss: 1.1785 - accuracy: 0.6417 - val_loss: 0.6848 - val_accuracy: 0.8074\n",
            "Epoch 7/80\n",
            "2/2 [==============================] - 0s 39ms/step - loss: 0.9354 - accuracy: 0.6333 - val_loss: 0.6831 - val_accuracy: 0.8074\n",
            "Epoch 8/80\n",
            "2/2 [==============================] - 0s 46ms/step - loss: 0.7272 - accuracy: 0.6583 - val_loss: 0.6760 - val_accuracy: 0.8074\n",
            "Epoch 9/80\n",
            "2/2 [==============================] - 0s 43ms/step - loss: 1.1588 - accuracy: 0.6167 - val_loss: 0.6696 - val_accuracy: 0.8074\n",
            "Epoch 10/80\n",
            "2/2 [==============================] - 0s 36ms/step - loss: 0.9191 - accuracy: 0.5917 - val_loss: 0.6643 - val_accuracy: 0.8074\n",
            "Epoch 11/80\n",
            "2/2 [==============================] - 0s 38ms/step - loss: 0.9036 - accuracy: 0.6000 - val_loss: 0.6606 - val_accuracy: 0.8074\n",
            "Epoch 12/80\n",
            "2/2 [==============================] - 0s 38ms/step - loss: 0.8443 - accuracy: 0.6917 - val_loss: 0.6556 - val_accuracy: 0.8074\n"
          ]
        }
      ],
      "source": [
        "import random\n",
        "random.seed(1010)\n",
        "\n",
        "\n",
        "model = Sequential()\n",
        "model.add(Dense(512, input_shape=(X_train.shape[1],), activation='relu')) # Add an input shape! (features,)\n",
        "\n",
        "model.add(Dropout(0.5))\n",
        "model.add(Dense(256, activation='relu'))\n",
        "\n",
        "model.add(Dropout(0.5))\n",
        "model.add(Dense(128, activation='relu'))\n",
        "model.add(Dense(64, activation='relu'))\n",
        "\n",
        "model.add(Dropout(0.5))\n",
        "model.add(Dense(32, activation='relu'))\n",
        "\n",
        "model.add(Dropout(0.5))\n",
        "model.add(Dense(16, activation='relu'))\n",
        "\n",
        "model.add(Dropout(0.5))\n",
        "model.add(Dense(8, activation='relu'))\n",
        "\n",
        "model.add(Dropout(0.5))\n",
        "model.add(Dense(1, activation='sigmoid'))\n",
        "model.summary() \n",
        "\n",
        "opt = keras.optimizers.Adam(learning_rate=0.001)\n",
        "# compile the model\n",
        "model.compile(optimizer=opt, \n",
        "              loss='binary_crossentropy',\n",
        "              metrics=['accuracy'])\n",
        "\n",
        "# early stopping callback\n",
        "# This callback will stop the training when there is no improvement in  \n",
        "# the validation loss for 10 consecutive epochs.  \n",
        "es = EarlyStopping(monitor='val_accuracy', \n",
        "                                   mode='max', # don't minimize the accuracy!\n",
        "                                   patience=10,\n",
        "                                   restore_best_weights=True)\n",
        "\n",
        "# now we just update our model fit call\n",
        "history = model.fit(X_train,\n",
        "                    y_train,\n",
        "                    callbacks=[es],\n",
        "                    epochs=80, # you can set this to a big number!\n",
        "                    batch_size=64,\n",
        "                    validation_data=(X_test,y_test),\n",
        "                    shuffle=True,\n",
        "                    verbose=1)"
      ]
    },
    {
      "cell_type": "code",
      "execution_count": 144,
      "metadata": {
        "colab": {
          "base_uri": "https://localhost:8080/"
        },
        "id": "KgNyz4KRUYUf",
        "outputId": "f0565755-f4fd-4374-b16d-6322ec22a06b"
      },
      "outputs": [
        {
          "name": "stdout",
          "output_type": "stream",
          "text": [
            "22/22 [==============================] - 0s 1ms/step - loss: 0.6680 - accuracy: 0.8074\n"
          ]
        },
        {
          "data": {
            "text/plain": [
              "[0.6679749488830566, 0.8073529601097107]"
            ]
          },
          "execution_count": 144,
          "metadata": {},
          "output_type": "execute_result"
        }
      ],
      "source": [
        "model.evaluate(X_test, y_test,verbose=1)"
      ]
    },
    {
      "cell_type": "code",
      "execution_count": 145,
      "metadata": {
        "id": "WvIjnDqTVGaj"
      },
      "outputs": [
        {
          "name": "stdout",
          "output_type": "stream",
          "text": [
            "7/7 [==============================] - 0s 1ms/step\n"
          ]
        }
      ],
      "source": [
        "pred = model.predict(test)"
      ]
    },
    {
      "cell_type": "code",
      "execution_count": 34,
      "metadata": {
        "id": "ug4C3eVcVGWf"
      },
      "outputs": [],
      "source": [
        "sub = [1 if val > 0.25 else 0 for val in pred]"
      ]
    },
    {
      "cell_type": "code",
      "execution_count": 35,
      "metadata": {
        "colab": {
          "base_uri": "https://localhost:8080/"
        },
        "id": "B1DeSKXQVGAv",
        "outputId": "543f254c-8bd5-4eff-f4a7-cb3df9d88c93"
      },
      "outputs": [
        {
          "data": {
            "text/plain": [
              "1    200\n",
              "Name: Class/ASD, dtype: int64"
            ]
          },
          "execution_count": 35,
          "metadata": {},
          "output_type": "execute_result"
        }
      ],
      "source": [
        "su = pd.DataFrame({'ID':id, 'Class/ASD':sub})\n",
        "su['Class/ASD'].value_counts()"
      ]
    },
    {
      "cell_type": "code",
      "execution_count": 43,
      "metadata": {
        "id": "v6z2mIoPV8RK"
      },
      "outputs": [],
      "source": [
        "su.to_csv(\"nn_sub.csv\",index=False)"
      ]
    },
    {
      "cell_type": "markdown",
      "metadata": {},
      "source": [
        "## BalancedRandomForestClassifier Model"
      ]
    },
    {
      "cell_type": "code",
      "execution_count": 48,
      "metadata": {},
      "outputs": [],
      "source": [
        "from imblearn.ensemble import BalancedRandomForestClassifier"
      ]
    },
    {
      "cell_type": "code",
      "execution_count": 49,
      "metadata": {},
      "outputs": [],
      "source": [
        "clf = BalancedRandomForestClassifier(sampling_strategy=0.7)"
      ]
    },
    {
      "cell_type": "code",
      "execution_count": 51,
      "metadata": {},
      "outputs": [],
      "source": [
        "bal_rf = clf.fit(X, y)"
      ]
    },
    {
      "cell_type": "code",
      "execution_count": 54,
      "metadata": {},
      "outputs": [
        {
          "data": {
            "text/html": [
              "<div>\n",
              "<style scoped>\n",
              "    .dataframe tbody tr th:only-of-type {\n",
              "        vertical-align: middle;\n",
              "    }\n",
              "\n",
              "    .dataframe tbody tr th {\n",
              "        vertical-align: top;\n",
              "    }\n",
              "\n",
              "    .dataframe thead th {\n",
              "        text-align: right;\n",
              "    }\n",
              "</style>\n",
              "<table border=\"1\" class=\"dataframe\">\n",
              "  <thead>\n",
              "    <tr style=\"text-align: right;\">\n",
              "      <th></th>\n",
              "      <th>A1_Score</th>\n",
              "      <th>A2_Score</th>\n",
              "      <th>A3_Score</th>\n",
              "      <th>A4_Score</th>\n",
              "      <th>A5_Score</th>\n",
              "      <th>A6_Score</th>\n",
              "      <th>A7_Score</th>\n",
              "      <th>A8_Score</th>\n",
              "      <th>A9_Score</th>\n",
              "      <th>A10_Score</th>\n",
              "      <th>age</th>\n",
              "      <th>gender</th>\n",
              "      <th>ethnicity</th>\n",
              "      <th>jaundice</th>\n",
              "      <th>austim</th>\n",
              "      <th>contry_of_res</th>\n",
              "      <th>used_app_before</th>\n",
              "      <th>result</th>\n",
              "      <th>relation</th>\n",
              "    </tr>\n",
              "  </thead>\n",
              "  <tbody>\n",
              "    <tr>\n",
              "      <th>0</th>\n",
              "      <td>1</td>\n",
              "      <td>1</td>\n",
              "      <td>0</td>\n",
              "      <td>0</td>\n",
              "      <td>1</td>\n",
              "      <td>1</td>\n",
              "      <td>0</td>\n",
              "      <td>0</td>\n",
              "      <td>1</td>\n",
              "      <td>1</td>\n",
              "      <td>15</td>\n",
              "      <td>1</td>\n",
              "      <td>10</td>\n",
              "      <td>1</td>\n",
              "      <td>0</td>\n",
              "      <td>14</td>\n",
              "      <td>0</td>\n",
              "      <td>12</td>\n",
              "      <td>5</td>\n",
              "    </tr>\n",
              "    <tr>\n",
              "      <th>1</th>\n",
              "      <td>1</td>\n",
              "      <td>0</td>\n",
              "      <td>0</td>\n",
              "      <td>0</td>\n",
              "      <td>0</td>\n",
              "      <td>0</td>\n",
              "      <td>0</td>\n",
              "      <td>1</td>\n",
              "      <td>0</td>\n",
              "      <td>0</td>\n",
              "      <td>27</td>\n",
              "      <td>1</td>\n",
              "      <td>1</td>\n",
              "      <td>0</td>\n",
              "      <td>0</td>\n",
              "      <td>21</td>\n",
              "      <td>0</td>\n",
              "      <td>6</td>\n",
              "      <td>5</td>\n",
              "    </tr>\n",
              "    <tr>\n",
              "      <th>2</th>\n",
              "      <td>1</td>\n",
              "      <td>1</td>\n",
              "      <td>1</td>\n",
              "      <td>0</td>\n",
              "      <td>1</td>\n",
              "      <td>1</td>\n",
              "      <td>0</td>\n",
              "      <td>1</td>\n",
              "      <td>1</td>\n",
              "      <td>1</td>\n",
              "      <td>31</td>\n",
              "      <td>1</td>\n",
              "      <td>10</td>\n",
              "      <td>1</td>\n",
              "      <td>0</td>\n",
              "      <td>10</td>\n",
              "      <td>0</td>\n",
              "      <td>3</td>\n",
              "      <td>5</td>\n",
              "    </tr>\n",
              "    <tr>\n",
              "      <th>3</th>\n",
              "      <td>0</td>\n",
              "      <td>0</td>\n",
              "      <td>0</td>\n",
              "      <td>0</td>\n",
              "      <td>0</td>\n",
              "      <td>0</td>\n",
              "      <td>0</td>\n",
              "      <td>0</td>\n",
              "      <td>0</td>\n",
              "      <td>0</td>\n",
              "      <td>25</td>\n",
              "      <td>1</td>\n",
              "      <td>0</td>\n",
              "      <td>0</td>\n",
              "      <td>0</td>\n",
              "      <td>14</td>\n",
              "      <td>0</td>\n",
              "      <td>2</td>\n",
              "      <td>5</td>\n",
              "    </tr>\n",
              "    <tr>\n",
              "      <th>4</th>\n",
              "      <td>0</td>\n",
              "      <td>0</td>\n",
              "      <td>0</td>\n",
              "      <td>1</td>\n",
              "      <td>0</td>\n",
              "      <td>0</td>\n",
              "      <td>0</td>\n",
              "      <td>0</td>\n",
              "      <td>0</td>\n",
              "      <td>0</td>\n",
              "      <td>9</td>\n",
              "      <td>1</td>\n",
              "      <td>0</td>\n",
              "      <td>0</td>\n",
              "      <td>0</td>\n",
              "      <td>17</td>\n",
              "      <td>0</td>\n",
              "      <td>7</td>\n",
              "      <td>5</td>\n",
              "    </tr>\n",
              "    <tr>\n",
              "      <th>...</th>\n",
              "      <td>...</td>\n",
              "      <td>...</td>\n",
              "      <td>...</td>\n",
              "      <td>...</td>\n",
              "      <td>...</td>\n",
              "      <td>...</td>\n",
              "      <td>...</td>\n",
              "      <td>...</td>\n",
              "      <td>...</td>\n",
              "      <td>...</td>\n",
              "      <td>...</td>\n",
              "      <td>...</td>\n",
              "      <td>...</td>\n",
              "      <td>...</td>\n",
              "      <td>...</td>\n",
              "      <td>...</td>\n",
              "      <td>...</td>\n",
              "      <td>...</td>\n",
              "      <td>...</td>\n",
              "    </tr>\n",
              "    <tr>\n",
              "      <th>195</th>\n",
              "      <td>1</td>\n",
              "      <td>1</td>\n",
              "      <td>0</td>\n",
              "      <td>0</td>\n",
              "      <td>1</td>\n",
              "      <td>0</td>\n",
              "      <td>0</td>\n",
              "      <td>1</td>\n",
              "      <td>1</td>\n",
              "      <td>1</td>\n",
              "      <td>23</td>\n",
              "      <td>1</td>\n",
              "      <td>2</td>\n",
              "      <td>0</td>\n",
              "      <td>0</td>\n",
              "      <td>4</td>\n",
              "      <td>0</td>\n",
              "      <td>-1</td>\n",
              "      <td>5</td>\n",
              "    </tr>\n",
              "    <tr>\n",
              "      <th>196</th>\n",
              "      <td>1</td>\n",
              "      <td>0</td>\n",
              "      <td>0</td>\n",
              "      <td>0</td>\n",
              "      <td>0</td>\n",
              "      <td>0</td>\n",
              "      <td>0</td>\n",
              "      <td>0</td>\n",
              "      <td>0</td>\n",
              "      <td>1</td>\n",
              "      <td>13</td>\n",
              "      <td>1</td>\n",
              "      <td>6</td>\n",
              "      <td>0</td>\n",
              "      <td>0</td>\n",
              "      <td>14</td>\n",
              "      <td>0</td>\n",
              "      <td>0</td>\n",
              "      <td>5</td>\n",
              "    </tr>\n",
              "    <tr>\n",
              "      <th>197</th>\n",
              "      <td>1</td>\n",
              "      <td>0</td>\n",
              "      <td>0</td>\n",
              "      <td>0</td>\n",
              "      <td>0</td>\n",
              "      <td>0</td>\n",
              "      <td>1</td>\n",
              "      <td>0</td>\n",
              "      <td>1</td>\n",
              "      <td>1</td>\n",
              "      <td>22</td>\n",
              "      <td>1</td>\n",
              "      <td>0</td>\n",
              "      <td>0</td>\n",
              "      <td>0</td>\n",
              "      <td>23</td>\n",
              "      <td>0</td>\n",
              "      <td>3</td>\n",
              "      <td>0</td>\n",
              "    </tr>\n",
              "    <tr>\n",
              "      <th>198</th>\n",
              "      <td>0</td>\n",
              "      <td>1</td>\n",
              "      <td>0</td>\n",
              "      <td>0</td>\n",
              "      <td>0</td>\n",
              "      <td>0</td>\n",
              "      <td>0</td>\n",
              "      <td>1</td>\n",
              "      <td>0</td>\n",
              "      <td>1</td>\n",
              "      <td>24</td>\n",
              "      <td>0</td>\n",
              "      <td>0</td>\n",
              "      <td>0</td>\n",
              "      <td>0</td>\n",
              "      <td>32</td>\n",
              "      <td>0</td>\n",
              "      <td>5</td>\n",
              "      <td>5</td>\n",
              "    </tr>\n",
              "    <tr>\n",
              "      <th>199</th>\n",
              "      <td>1</td>\n",
              "      <td>0</td>\n",
              "      <td>0</td>\n",
              "      <td>0</td>\n",
              "      <td>0</td>\n",
              "      <td>0</td>\n",
              "      <td>1</td>\n",
              "      <td>1</td>\n",
              "      <td>0</td>\n",
              "      <td>1</td>\n",
              "      <td>45</td>\n",
              "      <td>0</td>\n",
              "      <td>6</td>\n",
              "      <td>0</td>\n",
              "      <td>0</td>\n",
              "      <td>9</td>\n",
              "      <td>0</td>\n",
              "      <td>9</td>\n",
              "      <td>5</td>\n",
              "    </tr>\n",
              "  </tbody>\n",
              "</table>\n",
              "<p>200 rows × 19 columns</p>\n",
              "</div>"
            ],
            "text/plain": [
              "     A1_Score  A2_Score  A3_Score  A4_Score  A5_Score  A6_Score  A7_Score  \\\n",
              "0           1         1         0         0         1         1         0   \n",
              "1           1         0         0         0         0         0         0   \n",
              "2           1         1         1         0         1         1         0   \n",
              "3           0         0         0         0         0         0         0   \n",
              "4           0         0         0         1         0         0         0   \n",
              "..        ...       ...       ...       ...       ...       ...       ...   \n",
              "195         1         1         0         0         1         0         0   \n",
              "196         1         0         0         0         0         0         0   \n",
              "197         1         0         0         0         0         0         1   \n",
              "198         0         1         0         0         0         0         0   \n",
              "199         1         0         0         0         0         0         1   \n",
              "\n",
              "     A8_Score  A9_Score  A10_Score  age  gender  ethnicity  jaundice  austim  \\\n",
              "0           0         1          1   15       1         10         1       0   \n",
              "1           1         0          0   27       1          1         0       0   \n",
              "2           1         1          1   31       1         10         1       0   \n",
              "3           0         0          0   25       1          0         0       0   \n",
              "4           0         0          0    9       1          0         0       0   \n",
              "..        ...       ...        ...  ...     ...        ...       ...     ...   \n",
              "195         1         1          1   23       1          2         0       0   \n",
              "196         0         0          1   13       1          6         0       0   \n",
              "197         0         1          1   22       1          0         0       0   \n",
              "198         1         0          1   24       0          0         0       0   \n",
              "199         1         0          1   45       0          6         0       0   \n",
              "\n",
              "     contry_of_res  used_app_before  result  relation  \n",
              "0               14                0      12         5  \n",
              "1               21                0       6         5  \n",
              "2               10                0       3         5  \n",
              "3               14                0       2         5  \n",
              "4               17                0       7         5  \n",
              "..             ...              ...     ...       ...  \n",
              "195              4                0      -1         5  \n",
              "196             14                0       0         5  \n",
              "197             23                0       3         0  \n",
              "198             32                0       5         5  \n",
              "199              9                0       9         5  \n",
              "\n",
              "[200 rows x 19 columns]"
            ]
          },
          "execution_count": 54,
          "metadata": {},
          "output_type": "execute_result"
        }
      ],
      "source": [
        "test"
      ]
    },
    {
      "cell_type": "code",
      "execution_count": 56,
      "metadata": {},
      "outputs": [],
      "source": [
        "pre = bal_rf.predict(test)"
      ]
    },
    {
      "cell_type": "code",
      "execution_count": 60,
      "metadata": {},
      "outputs": [
        {
          "data": {
            "text/plain": [
              "0    137\n",
              "1     63\n",
              "Name: Class/ASD, dtype: int64"
            ]
          },
          "execution_count": 60,
          "metadata": {},
          "output_type": "execute_result"
        }
      ],
      "source": [
        "# pd.Series(pre)\n",
        "bal_rf_sub = pd.DataFrame({'ID':id, 'Class/ASD':pre})\n",
        "bal_rf_sub['Class/ASD'].value_counts()"
      ]
    },
    {
      "cell_type": "code",
      "execution_count": 61,
      "metadata": {},
      "outputs": [],
      "source": [
        "bal_rf_sub.to_csv('bal_rf_sub.csv',index=False)"
      ]
    },
    {
      "cell_type": "markdown",
      "metadata": {},
      "source": [
        "## Tunning Balanced Random Forest"
      ]
    },
    {
      "cell_type": "code",
      "execution_count": 62,
      "metadata": {},
      "outputs": [],
      "source": [
        "from sklearn.model_selection import RandomizedSearchCV"
      ]
    },
    {
      "cell_type": "code",
      "execution_count": 66,
      "metadata": {},
      "outputs": [],
      "source": [
        "grid_params = {'bootstrap': [True, False],\n",
        "               'max_depth': [10, 20, 30, 40, 50, 60, 70, 80, 90, 100, 110],\n",
        "               'max_features': ['auto', 'sqrt'],\n",
        "               'min_samples_leaf': [1, 2, 4],\n",
        "               'min_samples_split': [2, 5, 10],\n",
        "               'n_estimators': [130, 180, 230]}\n",
        "randomCv = RandomizedSearchCV(estimator=bal_rf,param_distributions=grid_params,cv=3,n_iter = 100,verbose=2,random_state=412)"
      ]
    },
    {
      "cell_type": "code",
      "execution_count": 68,
      "metadata": {},
      "outputs": [
        {
          "name": "stdout",
          "output_type": "stream",
          "text": [
            "Fitting 3 folds for each of 100 candidates, totalling 300 fits\n",
            "[CV] END bootstrap=False, max_depth=30, max_features=auto, min_samples_leaf=4, min_samples_split=2, n_estimators=180; total time=   0.3s\n",
            "[CV] END bootstrap=False, max_depth=30, max_features=auto, min_samples_leaf=4, min_samples_split=2, n_estimators=180; total time=   0.3s\n",
            "[CV] END bootstrap=False, max_depth=30, max_features=auto, min_samples_leaf=4, min_samples_split=2, n_estimators=180; total time=   0.3s\n",
            "[CV] END bootstrap=True, max_depth=70, max_features=auto, min_samples_leaf=1, min_samples_split=2, n_estimators=130; total time=   0.3s\n",
            "[CV] END bootstrap=True, max_depth=70, max_features=auto, min_samples_leaf=1, min_samples_split=2, n_estimators=130; total time=   0.3s\n",
            "[CV] END bootstrap=True, max_depth=70, max_features=auto, min_samples_leaf=1, min_samples_split=2, n_estimators=130; total time=   0.3s\n",
            "[CV] END bootstrap=False, max_depth=80, max_features=sqrt, min_samples_leaf=2, min_samples_split=2, n_estimators=130; total time=   0.2s\n",
            "[CV] END bootstrap=False, max_depth=80, max_features=sqrt, min_samples_leaf=2, min_samples_split=2, n_estimators=130; total time=   0.2s\n",
            "[CV] END bootstrap=False, max_depth=80, max_features=sqrt, min_samples_leaf=2, min_samples_split=2, n_estimators=130; total time=   0.2s\n",
            "[CV] END bootstrap=True, max_depth=10, max_features=sqrt, min_samples_leaf=2, min_samples_split=5, n_estimators=130; total time=   0.3s\n",
            "[CV] END bootstrap=True, max_depth=10, max_features=sqrt, min_samples_leaf=2, min_samples_split=5, n_estimators=130; total time=   0.4s\n",
            "[CV] END bootstrap=True, max_depth=10, max_features=sqrt, min_samples_leaf=2, min_samples_split=5, n_estimators=130; total time=   0.3s\n",
            "[CV] END bootstrap=False, max_depth=60, max_features=sqrt, min_samples_leaf=4, min_samples_split=10, n_estimators=130; total time=   0.2s\n",
            "[CV] END bootstrap=False, max_depth=60, max_features=sqrt, min_samples_leaf=4, min_samples_split=10, n_estimators=130; total time=   0.2s\n",
            "[CV] END bootstrap=False, max_depth=60, max_features=sqrt, min_samples_leaf=4, min_samples_split=10, n_estimators=130; total time=   0.2s\n",
            "[CV] END bootstrap=True, max_depth=50, max_features=sqrt, min_samples_leaf=4, min_samples_split=2, n_estimators=130; total time=   0.3s\n",
            "[CV] END bootstrap=True, max_depth=50, max_features=sqrt, min_samples_leaf=4, min_samples_split=2, n_estimators=130; total time=   0.3s\n",
            "[CV] END bootstrap=True, max_depth=50, max_features=sqrt, min_samples_leaf=4, min_samples_split=2, n_estimators=130; total time=   0.3s\n",
            "[CV] END bootstrap=True, max_depth=70, max_features=auto, min_samples_leaf=2, min_samples_split=2, n_estimators=180; total time=   0.4s\n",
            "[CV] END bootstrap=True, max_depth=70, max_features=auto, min_samples_leaf=2, min_samples_split=2, n_estimators=180; total time=   0.4s\n",
            "[CV] END bootstrap=True, max_depth=70, max_features=auto, min_samples_leaf=2, min_samples_split=2, n_estimators=180; total time=   0.4s\n",
            "[CV] END bootstrap=False, max_depth=110, max_features=auto, min_samples_leaf=4, min_samples_split=10, n_estimators=180; total time=   0.3s\n",
            "[CV] END bootstrap=False, max_depth=110, max_features=auto, min_samples_leaf=4, min_samples_split=10, n_estimators=180; total time=   0.3s\n",
            "[CV] END bootstrap=False, max_depth=110, max_features=auto, min_samples_leaf=4, min_samples_split=10, n_estimators=180; total time=   0.3s\n",
            "[CV] END bootstrap=False, max_depth=70, max_features=auto, min_samples_leaf=1, min_samples_split=10, n_estimators=230; total time=   0.4s\n",
            "[CV] END bootstrap=False, max_depth=70, max_features=auto, min_samples_leaf=1, min_samples_split=10, n_estimators=230; total time=   0.4s\n",
            "[CV] END bootstrap=False, max_depth=70, max_features=auto, min_samples_leaf=1, min_samples_split=10, n_estimators=230; total time=   0.4s\n",
            "[CV] END bootstrap=False, max_depth=50, max_features=auto, min_samples_leaf=1, min_samples_split=2, n_estimators=130; total time=   0.2s\n",
            "[CV] END bootstrap=False, max_depth=50, max_features=auto, min_samples_leaf=1, min_samples_split=2, n_estimators=130; total time=   0.2s\n",
            "[CV] END bootstrap=False, max_depth=50, max_features=auto, min_samples_leaf=1, min_samples_split=2, n_estimators=130; total time=   0.2s\n",
            "[CV] END bootstrap=True, max_depth=20, max_features=auto, min_samples_leaf=4, min_samples_split=10, n_estimators=230; total time=   0.5s\n",
            "[CV] END bootstrap=True, max_depth=20, max_features=auto, min_samples_leaf=4, min_samples_split=10, n_estimators=230; total time=   0.5s\n",
            "[CV] END bootstrap=True, max_depth=20, max_features=auto, min_samples_leaf=4, min_samples_split=10, n_estimators=230; total time=   0.5s\n",
            "[CV] END bootstrap=False, max_depth=110, max_features=sqrt, min_samples_leaf=1, min_samples_split=10, n_estimators=180; total time=   0.3s\n",
            "[CV] END bootstrap=False, max_depth=110, max_features=sqrt, min_samples_leaf=1, min_samples_split=10, n_estimators=180; total time=   0.3s\n",
            "[CV] END bootstrap=False, max_depth=110, max_features=sqrt, min_samples_leaf=1, min_samples_split=10, n_estimators=180; total time=   0.3s\n",
            "[CV] END bootstrap=True, max_depth=110, max_features=sqrt, min_samples_leaf=2, min_samples_split=10, n_estimators=180; total time=   0.4s\n",
            "[CV] END bootstrap=True, max_depth=110, max_features=sqrt, min_samples_leaf=2, min_samples_split=10, n_estimators=180; total time=   0.4s\n",
            "[CV] END bootstrap=True, max_depth=110, max_features=sqrt, min_samples_leaf=2, min_samples_split=10, n_estimators=180; total time=   0.4s\n",
            "[CV] END bootstrap=False, max_depth=110, max_features=auto, min_samples_leaf=1, min_samples_split=2, n_estimators=130; total time=   0.2s\n",
            "[CV] END bootstrap=False, max_depth=110, max_features=auto, min_samples_leaf=1, min_samples_split=2, n_estimators=130; total time=   0.2s\n",
            "[CV] END bootstrap=False, max_depth=110, max_features=auto, min_samples_leaf=1, min_samples_split=2, n_estimators=130; total time=   0.2s\n",
            "[CV] END bootstrap=True, max_depth=70, max_features=sqrt, min_samples_leaf=1, min_samples_split=2, n_estimators=230; total time=   0.5s\n",
            "[CV] END bootstrap=True, max_depth=70, max_features=sqrt, min_samples_leaf=1, min_samples_split=2, n_estimators=230; total time=   0.5s\n",
            "[CV] END bootstrap=True, max_depth=70, max_features=sqrt, min_samples_leaf=1, min_samples_split=2, n_estimators=230; total time=   0.5s\n",
            "[CV] END bootstrap=True, max_depth=110, max_features=sqrt, min_samples_leaf=4, min_samples_split=5, n_estimators=230; total time=   0.5s\n",
            "[CV] END bootstrap=True, max_depth=110, max_features=sqrt, min_samples_leaf=4, min_samples_split=5, n_estimators=230; total time=   0.5s\n",
            "[CV] END bootstrap=True, max_depth=110, max_features=sqrt, min_samples_leaf=4, min_samples_split=5, n_estimators=230; total time=   0.5s\n",
            "[CV] END bootstrap=True, max_depth=30, max_features=sqrt, min_samples_leaf=2, min_samples_split=5, n_estimators=230; total time=   0.5s\n",
            "[CV] END bootstrap=True, max_depth=30, max_features=sqrt, min_samples_leaf=2, min_samples_split=5, n_estimators=230; total time=   0.5s\n",
            "[CV] END bootstrap=True, max_depth=30, max_features=sqrt, min_samples_leaf=2, min_samples_split=5, n_estimators=230; total time=   0.4s\n",
            "[CV] END bootstrap=True, max_depth=60, max_features=auto, min_samples_leaf=1, min_samples_split=5, n_estimators=180; total time=   0.4s\n",
            "[CV] END bootstrap=True, max_depth=60, max_features=auto, min_samples_leaf=1, min_samples_split=5, n_estimators=180; total time=   0.4s\n",
            "[CV] END bootstrap=True, max_depth=60, max_features=auto, min_samples_leaf=1, min_samples_split=5, n_estimators=180; total time=   0.4s\n",
            "[CV] END bootstrap=True, max_depth=80, max_features=auto, min_samples_leaf=4, min_samples_split=10, n_estimators=230; total time=   0.5s\n",
            "[CV] END bootstrap=True, max_depth=80, max_features=auto, min_samples_leaf=4, min_samples_split=10, n_estimators=230; total time=   0.4s\n",
            "[CV] END bootstrap=True, max_depth=80, max_features=auto, min_samples_leaf=4, min_samples_split=10, n_estimators=230; total time=   0.5s\n",
            "[CV] END bootstrap=False, max_depth=30, max_features=sqrt, min_samples_leaf=4, min_samples_split=10, n_estimators=230; total time=   0.4s\n",
            "[CV] END bootstrap=False, max_depth=30, max_features=sqrt, min_samples_leaf=4, min_samples_split=10, n_estimators=230; total time=   0.4s\n",
            "[CV] END bootstrap=False, max_depth=30, max_features=sqrt, min_samples_leaf=4, min_samples_split=10, n_estimators=230; total time=   0.4s\n",
            "[CV] END bootstrap=False, max_depth=90, max_features=auto, min_samples_leaf=4, min_samples_split=2, n_estimators=180; total time=   0.3s\n",
            "[CV] END bootstrap=False, max_depth=90, max_features=auto, min_samples_leaf=4, min_samples_split=2, n_estimators=180; total time=   0.3s\n",
            "[CV] END bootstrap=False, max_depth=90, max_features=auto, min_samples_leaf=4, min_samples_split=2, n_estimators=180; total time=   0.3s\n",
            "[CV] END bootstrap=True, max_depth=110, max_features=sqrt, min_samples_leaf=2, min_samples_split=5, n_estimators=230; total time=   0.5s\n",
            "[CV] END bootstrap=True, max_depth=110, max_features=sqrt, min_samples_leaf=2, min_samples_split=5, n_estimators=230; total time=   0.4s\n",
            "[CV] END bootstrap=True, max_depth=110, max_features=sqrt, min_samples_leaf=2, min_samples_split=5, n_estimators=230; total time=   0.5s\n",
            "[CV] END bootstrap=False, max_depth=50, max_features=auto, min_samples_leaf=1, min_samples_split=2, n_estimators=230; total time=   0.4s\n",
            "[CV] END bootstrap=False, max_depth=50, max_features=auto, min_samples_leaf=1, min_samples_split=2, n_estimators=230; total time=   0.4s\n",
            "[CV] END bootstrap=False, max_depth=50, max_features=auto, min_samples_leaf=1, min_samples_split=2, n_estimators=230; total time=   0.4s\n",
            "[CV] END bootstrap=True, max_depth=70, max_features=auto, min_samples_leaf=1, min_samples_split=5, n_estimators=180; total time=   0.4s\n",
            "[CV] END bootstrap=True, max_depth=70, max_features=auto, min_samples_leaf=1, min_samples_split=5, n_estimators=180; total time=   0.4s\n",
            "[CV] END bootstrap=True, max_depth=70, max_features=auto, min_samples_leaf=1, min_samples_split=5, n_estimators=180; total time=   0.4s\n",
            "[CV] END bootstrap=False, max_depth=70, max_features=sqrt, min_samples_leaf=2, min_samples_split=2, n_estimators=130; total time=   0.2s\n",
            "[CV] END bootstrap=False, max_depth=70, max_features=sqrt, min_samples_leaf=2, min_samples_split=2, n_estimators=130; total time=   0.2s\n",
            "[CV] END bootstrap=False, max_depth=70, max_features=sqrt, min_samples_leaf=2, min_samples_split=2, n_estimators=130; total time=   0.2s\n",
            "[CV] END bootstrap=True, max_depth=10, max_features=auto, min_samples_leaf=2, min_samples_split=2, n_estimators=230; total time=   0.5s\n",
            "[CV] END bootstrap=True, max_depth=10, max_features=auto, min_samples_leaf=2, min_samples_split=2, n_estimators=230; total time=   0.4s\n",
            "[CV] END bootstrap=True, max_depth=10, max_features=auto, min_samples_leaf=2, min_samples_split=2, n_estimators=230; total time=   0.5s\n",
            "[CV] END bootstrap=True, max_depth=60, max_features=auto, min_samples_leaf=2, min_samples_split=5, n_estimators=180; total time=   0.4s\n",
            "[CV] END bootstrap=True, max_depth=60, max_features=auto, min_samples_leaf=2, min_samples_split=5, n_estimators=180; total time=   0.4s\n",
            "[CV] END bootstrap=True, max_depth=60, max_features=auto, min_samples_leaf=2, min_samples_split=5, n_estimators=180; total time=   0.4s\n",
            "[CV] END bootstrap=True, max_depth=20, max_features=auto, min_samples_leaf=2, min_samples_split=10, n_estimators=230; total time=   0.4s\n",
            "[CV] END bootstrap=True, max_depth=20, max_features=auto, min_samples_leaf=2, min_samples_split=10, n_estimators=230; total time=   0.4s\n",
            "[CV] END bootstrap=True, max_depth=20, max_features=auto, min_samples_leaf=2, min_samples_split=10, n_estimators=230; total time=   0.5s\n",
            "[CV] END bootstrap=True, max_depth=70, max_features=sqrt, min_samples_leaf=2, min_samples_split=10, n_estimators=130; total time=   0.3s\n",
            "[CV] END bootstrap=True, max_depth=70, max_features=sqrt, min_samples_leaf=2, min_samples_split=10, n_estimators=130; total time=   0.3s\n",
            "[CV] END bootstrap=True, max_depth=70, max_features=sqrt, min_samples_leaf=2, min_samples_split=10, n_estimators=130; total time=   0.3s\n",
            "[CV] END bootstrap=False, max_depth=60, max_features=sqrt, min_samples_leaf=2, min_samples_split=10, n_estimators=230; total time=   0.4s\n",
            "[CV] END bootstrap=False, max_depth=60, max_features=sqrt, min_samples_leaf=2, min_samples_split=10, n_estimators=230; total time=   0.4s\n",
            "[CV] END bootstrap=False, max_depth=60, max_features=sqrt, min_samples_leaf=2, min_samples_split=10, n_estimators=230; total time=   0.4s\n",
            "[CV] END bootstrap=True, max_depth=90, max_features=auto, min_samples_leaf=1, min_samples_split=10, n_estimators=230; total time=   0.5s\n",
            "[CV] END bootstrap=True, max_depth=90, max_features=auto, min_samples_leaf=1, min_samples_split=10, n_estimators=230; total time=   0.5s\n",
            "[CV] END bootstrap=True, max_depth=90, max_features=auto, min_samples_leaf=1, min_samples_split=10, n_estimators=230; total time=   0.4s\n",
            "[CV] END bootstrap=False, max_depth=60, max_features=sqrt, min_samples_leaf=2, min_samples_split=10, n_estimators=180; total time=   0.3s\n",
            "[CV] END bootstrap=False, max_depth=60, max_features=sqrt, min_samples_leaf=2, min_samples_split=10, n_estimators=180; total time=   0.3s\n",
            "[CV] END bootstrap=False, max_depth=60, max_features=sqrt, min_samples_leaf=2, min_samples_split=10, n_estimators=180; total time=   0.3s\n",
            "[CV] END bootstrap=True, max_depth=30, max_features=sqrt, min_samples_leaf=1, min_samples_split=5, n_estimators=180; total time=   0.4s\n",
            "[CV] END bootstrap=True, max_depth=30, max_features=sqrt, min_samples_leaf=1, min_samples_split=5, n_estimators=180; total time=   0.4s\n",
            "[CV] END bootstrap=True, max_depth=30, max_features=sqrt, min_samples_leaf=1, min_samples_split=5, n_estimators=180; total time=   0.4s\n",
            "[CV] END bootstrap=True, max_depth=80, max_features=sqrt, min_samples_leaf=1, min_samples_split=2, n_estimators=130; total time=   0.3s\n",
            "[CV] END bootstrap=True, max_depth=80, max_features=sqrt, min_samples_leaf=1, min_samples_split=2, n_estimators=130; total time=   0.3s\n",
            "[CV] END bootstrap=True, max_depth=80, max_features=sqrt, min_samples_leaf=1, min_samples_split=2, n_estimators=130; total time=   0.3s\n",
            "[CV] END bootstrap=True, max_depth=20, max_features=auto, min_samples_leaf=2, min_samples_split=2, n_estimators=180; total time=   0.4s\n",
            "[CV] END bootstrap=True, max_depth=20, max_features=auto, min_samples_leaf=2, min_samples_split=2, n_estimators=180; total time=   0.4s\n",
            "[CV] END bootstrap=True, max_depth=20, max_features=auto, min_samples_leaf=2, min_samples_split=2, n_estimators=180; total time=   0.4s\n",
            "[CV] END bootstrap=False, max_depth=60, max_features=auto, min_samples_leaf=1, min_samples_split=5, n_estimators=180; total time=   0.3s\n",
            "[CV] END bootstrap=False, max_depth=60, max_features=auto, min_samples_leaf=1, min_samples_split=5, n_estimators=180; total time=   0.3s\n",
            "[CV] END bootstrap=False, max_depth=60, max_features=auto, min_samples_leaf=1, min_samples_split=5, n_estimators=180; total time=   0.3s\n",
            "[CV] END bootstrap=True, max_depth=30, max_features=sqrt, min_samples_leaf=1, min_samples_split=5, n_estimators=130; total time=   0.3s\n",
            "[CV] END bootstrap=True, max_depth=30, max_features=sqrt, min_samples_leaf=1, min_samples_split=5, n_estimators=130; total time=   0.3s\n",
            "[CV] END bootstrap=True, max_depth=30, max_features=sqrt, min_samples_leaf=1, min_samples_split=5, n_estimators=130; total time=   0.3s\n",
            "[CV] END bootstrap=False, max_depth=60, max_features=auto, min_samples_leaf=4, min_samples_split=5, n_estimators=180; total time=   0.3s\n",
            "[CV] END bootstrap=False, max_depth=60, max_features=auto, min_samples_leaf=4, min_samples_split=5, n_estimators=180; total time=   0.3s\n",
            "[CV] END bootstrap=False, max_depth=60, max_features=auto, min_samples_leaf=4, min_samples_split=5, n_estimators=180; total time=   0.3s\n",
            "[CV] END bootstrap=False, max_depth=70, max_features=auto, min_samples_leaf=2, min_samples_split=10, n_estimators=180; total time=   0.3s\n",
            "[CV] END bootstrap=False, max_depth=70, max_features=auto, min_samples_leaf=2, min_samples_split=10, n_estimators=180; total time=   0.3s\n",
            "[CV] END bootstrap=False, max_depth=70, max_features=auto, min_samples_leaf=2, min_samples_split=10, n_estimators=180; total time=   0.3s\n",
            "[CV] END bootstrap=True, max_depth=50, max_features=sqrt, min_samples_leaf=4, min_samples_split=5, n_estimators=230; total time=   0.4s\n",
            "[CV] END bootstrap=True, max_depth=50, max_features=sqrt, min_samples_leaf=4, min_samples_split=5, n_estimators=230; total time=   0.5s\n",
            "[CV] END bootstrap=True, max_depth=50, max_features=sqrt, min_samples_leaf=4, min_samples_split=5, n_estimators=230; total time=   0.5s\n",
            "[CV] END bootstrap=True, max_depth=30, max_features=sqrt, min_samples_leaf=2, min_samples_split=2, n_estimators=130; total time=   0.3s\n",
            "[CV] END bootstrap=True, max_depth=30, max_features=sqrt, min_samples_leaf=2, min_samples_split=2, n_estimators=130; total time=   0.3s\n",
            "[CV] END bootstrap=True, max_depth=30, max_features=sqrt, min_samples_leaf=2, min_samples_split=2, n_estimators=130; total time=   0.3s\n",
            "[CV] END bootstrap=True, max_depth=30, max_features=sqrt, min_samples_leaf=2, min_samples_split=10, n_estimators=180; total time=   0.4s\n",
            "[CV] END bootstrap=True, max_depth=30, max_features=sqrt, min_samples_leaf=2, min_samples_split=10, n_estimators=180; total time=   0.4s\n",
            "[CV] END bootstrap=True, max_depth=30, max_features=sqrt, min_samples_leaf=2, min_samples_split=10, n_estimators=180; total time=   0.4s\n",
            "[CV] END bootstrap=True, max_depth=50, max_features=auto, min_samples_leaf=2, min_samples_split=10, n_estimators=180; total time=   0.4s\n",
            "[CV] END bootstrap=True, max_depth=50, max_features=auto, min_samples_leaf=2, min_samples_split=10, n_estimators=180; total time=   0.4s\n",
            "[CV] END bootstrap=True, max_depth=50, max_features=auto, min_samples_leaf=2, min_samples_split=10, n_estimators=180; total time=   0.4s\n",
            "[CV] END bootstrap=True, max_depth=100, max_features=sqrt, min_samples_leaf=2, min_samples_split=5, n_estimators=130; total time=   0.3s\n",
            "[CV] END bootstrap=True, max_depth=100, max_features=sqrt, min_samples_leaf=2, min_samples_split=5, n_estimators=130; total time=   0.3s\n",
            "[CV] END bootstrap=True, max_depth=100, max_features=sqrt, min_samples_leaf=2, min_samples_split=5, n_estimators=130; total time=   0.3s\n",
            "[CV] END bootstrap=False, max_depth=20, max_features=sqrt, min_samples_leaf=4, min_samples_split=5, n_estimators=130; total time=   0.2s\n",
            "[CV] END bootstrap=False, max_depth=20, max_features=sqrt, min_samples_leaf=4, min_samples_split=5, n_estimators=130; total time=   0.2s\n",
            "[CV] END bootstrap=False, max_depth=20, max_features=sqrt, min_samples_leaf=4, min_samples_split=5, n_estimators=130; total time=   0.2s\n",
            "[CV] END bootstrap=False, max_depth=90, max_features=sqrt, min_samples_leaf=4, min_samples_split=2, n_estimators=230; total time=   0.4s\n",
            "[CV] END bootstrap=False, max_depth=90, max_features=sqrt, min_samples_leaf=4, min_samples_split=2, n_estimators=230; total time=   0.4s\n",
            "[CV] END bootstrap=False, max_depth=90, max_features=sqrt, min_samples_leaf=4, min_samples_split=2, n_estimators=230; total time=   0.4s\n",
            "[CV] END bootstrap=False, max_depth=100, max_features=sqrt, min_samples_leaf=2, min_samples_split=10, n_estimators=130; total time=   0.2s\n",
            "[CV] END bootstrap=False, max_depth=100, max_features=sqrt, min_samples_leaf=2, min_samples_split=10, n_estimators=130; total time=   0.2s\n",
            "[CV] END bootstrap=False, max_depth=100, max_features=sqrt, min_samples_leaf=2, min_samples_split=10, n_estimators=130; total time=   0.2s\n",
            "[CV] END bootstrap=False, max_depth=110, max_features=auto, min_samples_leaf=4, min_samples_split=2, n_estimators=130; total time=   0.2s\n",
            "[CV] END bootstrap=False, max_depth=110, max_features=auto, min_samples_leaf=4, min_samples_split=2, n_estimators=130; total time=   0.2s\n",
            "[CV] END bootstrap=False, max_depth=110, max_features=auto, min_samples_leaf=4, min_samples_split=2, n_estimators=130; total time=   0.2s\n",
            "[CV] END bootstrap=True, max_depth=70, max_features=auto, min_samples_leaf=2, min_samples_split=5, n_estimators=180; total time=   0.4s\n",
            "[CV] END bootstrap=True, max_depth=70, max_features=auto, min_samples_leaf=2, min_samples_split=5, n_estimators=180; total time=   0.4s\n",
            "[CV] END bootstrap=True, max_depth=70, max_features=auto, min_samples_leaf=2, min_samples_split=5, n_estimators=180; total time=   0.4s\n",
            "[CV] END bootstrap=False, max_depth=20, max_features=sqrt, min_samples_leaf=4, min_samples_split=2, n_estimators=130; total time=   0.3s\n",
            "[CV] END bootstrap=False, max_depth=20, max_features=sqrt, min_samples_leaf=4, min_samples_split=2, n_estimators=130; total time=   0.2s\n",
            "[CV] END bootstrap=False, max_depth=20, max_features=sqrt, min_samples_leaf=4, min_samples_split=2, n_estimators=130; total time=   0.2s\n",
            "[CV] END bootstrap=False, max_depth=70, max_features=auto, min_samples_leaf=2, min_samples_split=5, n_estimators=180; total time=   0.4s\n",
            "[CV] END bootstrap=False, max_depth=70, max_features=auto, min_samples_leaf=2, min_samples_split=5, n_estimators=180; total time=   0.3s\n",
            "[CV] END bootstrap=False, max_depth=70, max_features=auto, min_samples_leaf=2, min_samples_split=5, n_estimators=180; total time=   0.3s\n",
            "[CV] END bootstrap=False, max_depth=110, max_features=auto, min_samples_leaf=4, min_samples_split=5, n_estimators=180; total time=   0.3s\n",
            "[CV] END bootstrap=False, max_depth=110, max_features=auto, min_samples_leaf=4, min_samples_split=5, n_estimators=180; total time=   0.3s\n",
            "[CV] END bootstrap=False, max_depth=110, max_features=auto, min_samples_leaf=4, min_samples_split=5, n_estimators=180; total time=   0.3s\n",
            "[CV] END bootstrap=False, max_depth=90, max_features=auto, min_samples_leaf=1, min_samples_split=10, n_estimators=130; total time=   0.2s\n",
            "[CV] END bootstrap=False, max_depth=90, max_features=auto, min_samples_leaf=1, min_samples_split=10, n_estimators=130; total time=   0.2s\n",
            "[CV] END bootstrap=False, max_depth=90, max_features=auto, min_samples_leaf=1, min_samples_split=10, n_estimators=130; total time=   0.2s\n",
            "[CV] END bootstrap=True, max_depth=90, max_features=sqrt, min_samples_leaf=1, min_samples_split=2, n_estimators=180; total time=   0.4s\n",
            "[CV] END bootstrap=True, max_depth=90, max_features=sqrt, min_samples_leaf=1, min_samples_split=2, n_estimators=180; total time=   0.4s\n",
            "[CV] END bootstrap=True, max_depth=90, max_features=sqrt, min_samples_leaf=1, min_samples_split=2, n_estimators=180; total time=   0.4s\n",
            "[CV] END bootstrap=True, max_depth=90, max_features=sqrt, min_samples_leaf=4, min_samples_split=2, n_estimators=130; total time=   0.3s\n",
            "[CV] END bootstrap=True, max_depth=90, max_features=sqrt, min_samples_leaf=4, min_samples_split=2, n_estimators=130; total time=   0.3s\n",
            "[CV] END bootstrap=True, max_depth=90, max_features=sqrt, min_samples_leaf=4, min_samples_split=2, n_estimators=130; total time=   0.3s\n",
            "[CV] END bootstrap=True, max_depth=80, max_features=sqrt, min_samples_leaf=2, min_samples_split=5, n_estimators=180; total time=   0.4s\n",
            "[CV] END bootstrap=True, max_depth=80, max_features=sqrt, min_samples_leaf=2, min_samples_split=5, n_estimators=180; total time=   0.4s\n",
            "[CV] END bootstrap=True, max_depth=80, max_features=sqrt, min_samples_leaf=2, min_samples_split=5, n_estimators=180; total time=   0.4s\n",
            "[CV] END bootstrap=True, max_depth=70, max_features=auto, min_samples_leaf=2, min_samples_split=5, n_estimators=130; total time=   0.3s\n",
            "[CV] END bootstrap=True, max_depth=70, max_features=auto, min_samples_leaf=2, min_samples_split=5, n_estimators=130; total time=   0.3s\n",
            "[CV] END bootstrap=True, max_depth=70, max_features=auto, min_samples_leaf=2, min_samples_split=5, n_estimators=130; total time=   0.3s\n",
            "[CV] END bootstrap=False, max_depth=50, max_features=auto, min_samples_leaf=2, min_samples_split=2, n_estimators=230; total time=   0.4s\n",
            "[CV] END bootstrap=False, max_depth=50, max_features=auto, min_samples_leaf=2, min_samples_split=2, n_estimators=230; total time=   0.4s\n",
            "[CV] END bootstrap=False, max_depth=50, max_features=auto, min_samples_leaf=2, min_samples_split=2, n_estimators=230; total time=   0.4s\n",
            "[CV] END bootstrap=True, max_depth=40, max_features=auto, min_samples_leaf=4, min_samples_split=2, n_estimators=230; total time=   0.5s\n",
            "[CV] END bootstrap=True, max_depth=40, max_features=auto, min_samples_leaf=4, min_samples_split=2, n_estimators=230; total time=   0.4s\n",
            "[CV] END bootstrap=True, max_depth=40, max_features=auto, min_samples_leaf=4, min_samples_split=2, n_estimators=230; total time=   0.5s\n",
            "[CV] END bootstrap=False, max_depth=110, max_features=auto, min_samples_leaf=4, min_samples_split=10, n_estimators=130; total time=   0.2s\n",
            "[CV] END bootstrap=False, max_depth=110, max_features=auto, min_samples_leaf=4, min_samples_split=10, n_estimators=130; total time=   0.2s\n",
            "[CV] END bootstrap=False, max_depth=110, max_features=auto, min_samples_leaf=4, min_samples_split=10, n_estimators=130; total time=   0.2s\n",
            "[CV] END bootstrap=True, max_depth=70, max_features=auto, min_samples_leaf=4, min_samples_split=5, n_estimators=180; total time=   0.4s\n",
            "[CV] END bootstrap=True, max_depth=70, max_features=auto, min_samples_leaf=4, min_samples_split=5, n_estimators=180; total time=   0.5s\n",
            "[CV] END bootstrap=True, max_depth=70, max_features=auto, min_samples_leaf=4, min_samples_split=5, n_estimators=180; total time=   0.4s\n",
            "[CV] END bootstrap=True, max_depth=40, max_features=auto, min_samples_leaf=1, min_samples_split=2, n_estimators=180; total time=   0.4s\n",
            "[CV] END bootstrap=True, max_depth=40, max_features=auto, min_samples_leaf=1, min_samples_split=2, n_estimators=180; total time=   0.4s\n",
            "[CV] END bootstrap=True, max_depth=40, max_features=auto, min_samples_leaf=1, min_samples_split=2, n_estimators=180; total time=   0.4s\n",
            "[CV] END bootstrap=False, max_depth=60, max_features=sqrt, min_samples_leaf=1, min_samples_split=5, n_estimators=230; total time=   0.4s\n",
            "[CV] END bootstrap=False, max_depth=60, max_features=sqrt, min_samples_leaf=1, min_samples_split=5, n_estimators=230; total time=   0.4s\n",
            "[CV] END bootstrap=False, max_depth=60, max_features=sqrt, min_samples_leaf=1, min_samples_split=5, n_estimators=230; total time=   0.5s\n",
            "[CV] END bootstrap=False, max_depth=10, max_features=sqrt, min_samples_leaf=2, min_samples_split=10, n_estimators=130; total time=   0.3s\n",
            "[CV] END bootstrap=False, max_depth=10, max_features=sqrt, min_samples_leaf=2, min_samples_split=10, n_estimators=130; total time=   0.4s\n",
            "[CV] END bootstrap=False, max_depth=10, max_features=sqrt, min_samples_leaf=2, min_samples_split=10, n_estimators=130; total time=   0.2s\n",
            "[CV] END bootstrap=False, max_depth=100, max_features=auto, min_samples_leaf=4, min_samples_split=10, n_estimators=230; total time=   0.4s\n",
            "[CV] END bootstrap=False, max_depth=100, max_features=auto, min_samples_leaf=4, min_samples_split=10, n_estimators=230; total time=   0.4s\n",
            "[CV] END bootstrap=False, max_depth=100, max_features=auto, min_samples_leaf=4, min_samples_split=10, n_estimators=230; total time=   0.4s\n",
            "[CV] END bootstrap=False, max_depth=60, max_features=sqrt, min_samples_leaf=4, min_samples_split=5, n_estimators=230; total time=   0.4s\n",
            "[CV] END bootstrap=False, max_depth=60, max_features=sqrt, min_samples_leaf=4, min_samples_split=5, n_estimators=230; total time=   0.4s\n",
            "[CV] END bootstrap=False, max_depth=60, max_features=sqrt, min_samples_leaf=4, min_samples_split=5, n_estimators=230; total time=   0.4s\n",
            "[CV] END bootstrap=False, max_depth=90, max_features=sqrt, min_samples_leaf=2, min_samples_split=5, n_estimators=130; total time=   0.2s\n",
            "[CV] END bootstrap=False, max_depth=90, max_features=sqrt, min_samples_leaf=2, min_samples_split=5, n_estimators=130; total time=   0.2s\n",
            "[CV] END bootstrap=False, max_depth=90, max_features=sqrt, min_samples_leaf=2, min_samples_split=5, n_estimators=130; total time=   0.2s\n",
            "[CV] END bootstrap=True, max_depth=80, max_features=sqrt, min_samples_leaf=2, min_samples_split=10, n_estimators=230; total time=   0.5s\n",
            "[CV] END bootstrap=True, max_depth=80, max_features=sqrt, min_samples_leaf=2, min_samples_split=10, n_estimators=230; total time=   0.5s\n",
            "[CV] END bootstrap=True, max_depth=80, max_features=sqrt, min_samples_leaf=2, min_samples_split=10, n_estimators=230; total time=   0.5s\n",
            "[CV] END bootstrap=False, max_depth=80, max_features=auto, min_samples_leaf=4, min_samples_split=5, n_estimators=130; total time=   0.2s\n",
            "[CV] END bootstrap=False, max_depth=80, max_features=auto, min_samples_leaf=4, min_samples_split=5, n_estimators=130; total time=   0.2s\n",
            "[CV] END bootstrap=False, max_depth=80, max_features=auto, min_samples_leaf=4, min_samples_split=5, n_estimators=130; total time=   0.3s\n",
            "[CV] END bootstrap=False, max_depth=90, max_features=sqrt, min_samples_leaf=4, min_samples_split=2, n_estimators=180; total time=   0.4s\n",
            "[CV] END bootstrap=False, max_depth=90, max_features=sqrt, min_samples_leaf=4, min_samples_split=2, n_estimators=180; total time=   0.4s\n",
            "[CV] END bootstrap=False, max_depth=90, max_features=sqrt, min_samples_leaf=4, min_samples_split=2, n_estimators=180; total time=   0.4s\n",
            "[CV] END bootstrap=False, max_depth=110, max_features=auto, min_samples_leaf=1, min_samples_split=2, n_estimators=230; total time=   0.4s\n",
            "[CV] END bootstrap=False, max_depth=110, max_features=auto, min_samples_leaf=1, min_samples_split=2, n_estimators=230; total time=   0.5s\n",
            "[CV] END bootstrap=False, max_depth=110, max_features=auto, min_samples_leaf=1, min_samples_split=2, n_estimators=230; total time=   0.5s\n",
            "[CV] END bootstrap=True, max_depth=70, max_features=auto, min_samples_leaf=4, min_samples_split=5, n_estimators=230; total time=   0.5s\n",
            "[CV] END bootstrap=True, max_depth=70, max_features=auto, min_samples_leaf=4, min_samples_split=5, n_estimators=230; total time=   0.5s\n",
            "[CV] END bootstrap=True, max_depth=70, max_features=auto, min_samples_leaf=4, min_samples_split=5, n_estimators=230; total time=   0.4s\n",
            "[CV] END bootstrap=True, max_depth=70, max_features=sqrt, min_samples_leaf=1, min_samples_split=5, n_estimators=130; total time=   0.3s\n",
            "[CV] END bootstrap=True, max_depth=70, max_features=sqrt, min_samples_leaf=1, min_samples_split=5, n_estimators=130; total time=   0.3s\n",
            "[CV] END bootstrap=True, max_depth=70, max_features=sqrt, min_samples_leaf=1, min_samples_split=5, n_estimators=130; total time=   0.3s\n",
            "[CV] END bootstrap=True, max_depth=10, max_features=auto, min_samples_leaf=2, min_samples_split=10, n_estimators=230; total time=   0.5s\n",
            "[CV] END bootstrap=True, max_depth=10, max_features=auto, min_samples_leaf=2, min_samples_split=10, n_estimators=230; total time=   0.5s\n",
            "[CV] END bootstrap=True, max_depth=10, max_features=auto, min_samples_leaf=2, min_samples_split=10, n_estimators=230; total time=   0.4s\n",
            "[CV] END bootstrap=False, max_depth=100, max_features=sqrt, min_samples_leaf=1, min_samples_split=10, n_estimators=130; total time=   0.3s\n",
            "[CV] END bootstrap=False, max_depth=100, max_features=sqrt, min_samples_leaf=1, min_samples_split=10, n_estimators=130; total time=   0.2s\n",
            "[CV] END bootstrap=False, max_depth=100, max_features=sqrt, min_samples_leaf=1, min_samples_split=10, n_estimators=130; total time=   0.3s\n",
            "[CV] END bootstrap=False, max_depth=90, max_features=auto, min_samples_leaf=1, min_samples_split=2, n_estimators=180; total time=   0.4s\n",
            "[CV] END bootstrap=False, max_depth=90, max_features=auto, min_samples_leaf=1, min_samples_split=2, n_estimators=180; total time=   0.3s\n",
            "[CV] END bootstrap=False, max_depth=90, max_features=auto, min_samples_leaf=1, min_samples_split=2, n_estimators=180; total time=   0.3s\n",
            "[CV] END bootstrap=True, max_depth=10, max_features=sqrt, min_samples_leaf=2, min_samples_split=10, n_estimators=130; total time=   0.3s\n",
            "[CV] END bootstrap=True, max_depth=10, max_features=sqrt, min_samples_leaf=2, min_samples_split=10, n_estimators=130; total time=   0.3s\n",
            "[CV] END bootstrap=True, max_depth=10, max_features=sqrt, min_samples_leaf=2, min_samples_split=10, n_estimators=130; total time=   0.3s\n",
            "[CV] END bootstrap=False, max_depth=100, max_features=sqrt, min_samples_leaf=4, min_samples_split=10, n_estimators=180; total time=   0.4s\n",
            "[CV] END bootstrap=False, max_depth=100, max_features=sqrt, min_samples_leaf=4, min_samples_split=10, n_estimators=180; total time=   0.3s\n",
            "[CV] END bootstrap=False, max_depth=100, max_features=sqrt, min_samples_leaf=4, min_samples_split=10, n_estimators=180; total time=   0.4s\n",
            "[CV] END bootstrap=False, max_depth=10, max_features=sqrt, min_samples_leaf=2, min_samples_split=2, n_estimators=130; total time=   0.3s\n",
            "[CV] END bootstrap=False, max_depth=10, max_features=sqrt, min_samples_leaf=2, min_samples_split=2, n_estimators=130; total time=   0.2s\n",
            "[CV] END bootstrap=False, max_depth=10, max_features=sqrt, min_samples_leaf=2, min_samples_split=2, n_estimators=130; total time=   0.2s\n",
            "[CV] END bootstrap=False, max_depth=10, max_features=sqrt, min_samples_leaf=4, min_samples_split=5, n_estimators=180; total time=   0.4s\n",
            "[CV] END bootstrap=False, max_depth=10, max_features=sqrt, min_samples_leaf=4, min_samples_split=5, n_estimators=180; total time=   0.3s\n",
            "[CV] END bootstrap=False, max_depth=10, max_features=sqrt, min_samples_leaf=4, min_samples_split=5, n_estimators=180; total time=   0.3s\n",
            "[CV] END bootstrap=False, max_depth=40, max_features=sqrt, min_samples_leaf=4, min_samples_split=2, n_estimators=180; total time=   0.3s\n",
            "[CV] END bootstrap=False, max_depth=40, max_features=sqrt, min_samples_leaf=4, min_samples_split=2, n_estimators=180; total time=   0.3s\n",
            "[CV] END bootstrap=False, max_depth=40, max_features=sqrt, min_samples_leaf=4, min_samples_split=2, n_estimators=180; total time=   0.5s\n",
            "[CV] END bootstrap=False, max_depth=30, max_features=auto, min_samples_leaf=1, min_samples_split=5, n_estimators=180; total time=   0.3s\n",
            "[CV] END bootstrap=False, max_depth=30, max_features=auto, min_samples_leaf=1, min_samples_split=5, n_estimators=180; total time=   0.3s\n",
            "[CV] END bootstrap=False, max_depth=30, max_features=auto, min_samples_leaf=1, min_samples_split=5, n_estimators=180; total time=   0.3s\n",
            "[CV] END bootstrap=False, max_depth=90, max_features=sqrt, min_samples_leaf=2, min_samples_split=5, n_estimators=230; total time=   0.4s\n",
            "[CV] END bootstrap=False, max_depth=90, max_features=sqrt, min_samples_leaf=2, min_samples_split=5, n_estimators=230; total time=   0.5s\n",
            "[CV] END bootstrap=False, max_depth=90, max_features=sqrt, min_samples_leaf=2, min_samples_split=5, n_estimators=230; total time=   0.5s\n",
            "[CV] END bootstrap=True, max_depth=60, max_features=sqrt, min_samples_leaf=4, min_samples_split=5, n_estimators=230; total time=   0.5s\n",
            "[CV] END bootstrap=True, max_depth=60, max_features=sqrt, min_samples_leaf=4, min_samples_split=5, n_estimators=230; total time=   0.5s\n",
            "[CV] END bootstrap=True, max_depth=60, max_features=sqrt, min_samples_leaf=4, min_samples_split=5, n_estimators=230; total time=   0.5s\n",
            "[CV] END bootstrap=False, max_depth=70, max_features=auto, min_samples_leaf=4, min_samples_split=5, n_estimators=130; total time=   0.2s\n",
            "[CV] END bootstrap=False, max_depth=70, max_features=auto, min_samples_leaf=4, min_samples_split=5, n_estimators=130; total time=   0.3s\n",
            "[CV] END bootstrap=False, max_depth=70, max_features=auto, min_samples_leaf=4, min_samples_split=5, n_estimators=130; total time=   0.2s\n",
            "[CV] END bootstrap=False, max_depth=40, max_features=sqrt, min_samples_leaf=1, min_samples_split=10, n_estimators=230; total time=   0.4s\n",
            "[CV] END bootstrap=False, max_depth=40, max_features=sqrt, min_samples_leaf=1, min_samples_split=10, n_estimators=230; total time=   0.4s\n",
            "[CV] END bootstrap=False, max_depth=40, max_features=sqrt, min_samples_leaf=1, min_samples_split=10, n_estimators=230; total time=   0.4s\n",
            "[CV] END bootstrap=False, max_depth=10, max_features=auto, min_samples_leaf=2, min_samples_split=2, n_estimators=230; total time=   0.4s\n",
            "[CV] END bootstrap=False, max_depth=10, max_features=auto, min_samples_leaf=2, min_samples_split=2, n_estimators=230; total time=   0.4s\n",
            "[CV] END bootstrap=False, max_depth=10, max_features=auto, min_samples_leaf=2, min_samples_split=2, n_estimators=230; total time=   0.4s\n",
            "[CV] END bootstrap=True, max_depth=50, max_features=sqrt, min_samples_leaf=4, min_samples_split=2, n_estimators=230; total time=   0.5s\n",
            "[CV] END bootstrap=True, max_depth=50, max_features=sqrt, min_samples_leaf=4, min_samples_split=2, n_estimators=230; total time=   0.5s\n",
            "[CV] END bootstrap=True, max_depth=50, max_features=sqrt, min_samples_leaf=4, min_samples_split=2, n_estimators=230; total time=   0.5s\n",
            "[CV] END bootstrap=True, max_depth=50, max_features=auto, min_samples_leaf=2, min_samples_split=2, n_estimators=230; total time=   0.5s\n",
            "[CV] END bootstrap=True, max_depth=50, max_features=auto, min_samples_leaf=2, min_samples_split=2, n_estimators=230; total time=   0.5s\n",
            "[CV] END bootstrap=True, max_depth=50, max_features=auto, min_samples_leaf=2, min_samples_split=2, n_estimators=230; total time=   0.5s\n",
            "[CV] END bootstrap=True, max_depth=110, max_features=auto, min_samples_leaf=2, min_samples_split=10, n_estimators=230; total time=   0.5s\n",
            "[CV] END bootstrap=True, max_depth=110, max_features=auto, min_samples_leaf=2, min_samples_split=10, n_estimators=230; total time=   0.5s\n",
            "[CV] END bootstrap=True, max_depth=110, max_features=auto, min_samples_leaf=2, min_samples_split=10, n_estimators=230; total time=   0.5s\n",
            "[CV] END bootstrap=True, max_depth=40, max_features=auto, min_samples_leaf=2, min_samples_split=5, n_estimators=180; total time=   0.4s\n",
            "[CV] END bootstrap=True, max_depth=40, max_features=auto, min_samples_leaf=2, min_samples_split=5, n_estimators=180; total time=   0.4s\n",
            "[CV] END bootstrap=True, max_depth=40, max_features=auto, min_samples_leaf=2, min_samples_split=5, n_estimators=180; total time=   0.4s\n",
            "[CV] END bootstrap=True, max_depth=100, max_features=auto, min_samples_leaf=4, min_samples_split=5, n_estimators=180; total time=   0.4s\n",
            "[CV] END bootstrap=True, max_depth=100, max_features=auto, min_samples_leaf=4, min_samples_split=5, n_estimators=180; total time=   0.4s\n",
            "[CV] END bootstrap=True, max_depth=100, max_features=auto, min_samples_leaf=4, min_samples_split=5, n_estimators=180; total time=   0.4s\n",
            "[CV] END bootstrap=True, max_depth=30, max_features=sqrt, min_samples_leaf=4, min_samples_split=2, n_estimators=180; total time=   0.4s\n",
            "[CV] END bootstrap=True, max_depth=30, max_features=sqrt, min_samples_leaf=4, min_samples_split=2, n_estimators=180; total time=   0.4s\n",
            "[CV] END bootstrap=True, max_depth=30, max_features=sqrt, min_samples_leaf=4, min_samples_split=2, n_estimators=180; total time=   0.4s\n",
            "[CV] END bootstrap=False, max_depth=30, max_features=sqrt, min_samples_leaf=4, min_samples_split=2, n_estimators=130; total time=   0.2s\n",
            "[CV] END bootstrap=False, max_depth=30, max_features=sqrt, min_samples_leaf=4, min_samples_split=2, n_estimators=130; total time=   0.3s\n",
            "[CV] END bootstrap=False, max_depth=30, max_features=sqrt, min_samples_leaf=4, min_samples_split=2, n_estimators=130; total time=   0.2s\n",
            "[CV] END bootstrap=True, max_depth=110, max_features=sqrt, min_samples_leaf=1, min_samples_split=10, n_estimators=180; total time=   0.4s\n",
            "[CV] END bootstrap=True, max_depth=110, max_features=sqrt, min_samples_leaf=1, min_samples_split=10, n_estimators=180; total time=   0.4s\n",
            "[CV] END bootstrap=True, max_depth=110, max_features=sqrt, min_samples_leaf=1, min_samples_split=10, n_estimators=180; total time=   0.4s\n",
            "[CV] END bootstrap=False, max_depth=20, max_features=auto, min_samples_leaf=1, min_samples_split=2, n_estimators=180; total time=   0.3s\n",
            "[CV] END bootstrap=False, max_depth=20, max_features=auto, min_samples_leaf=1, min_samples_split=2, n_estimators=180; total time=   0.3s\n",
            "[CV] END bootstrap=False, max_depth=20, max_features=auto, min_samples_leaf=1, min_samples_split=2, n_estimators=180; total time=   0.3s\n",
            "[CV] END bootstrap=True, max_depth=100, max_features=sqrt, min_samples_leaf=4, min_samples_split=2, n_estimators=230; total time=   0.5s\n",
            "[CV] END bootstrap=True, max_depth=100, max_features=sqrt, min_samples_leaf=4, min_samples_split=2, n_estimators=230; total time=   0.5s\n",
            "[CV] END bootstrap=True, max_depth=100, max_features=sqrt, min_samples_leaf=4, min_samples_split=2, n_estimators=230; total time=   0.5s\n",
            "[CV] END bootstrap=True, max_depth=10, max_features=auto, min_samples_leaf=4, min_samples_split=2, n_estimators=180; total time=   0.4s\n",
            "[CV] END bootstrap=True, max_depth=10, max_features=auto, min_samples_leaf=4, min_samples_split=2, n_estimators=180; total time=   0.4s\n",
            "[CV] END bootstrap=True, max_depth=10, max_features=auto, min_samples_leaf=4, min_samples_split=2, n_estimators=180; total time=   0.4s\n",
            "[CV] END bootstrap=False, max_depth=70, max_features=auto, min_samples_leaf=4, min_samples_split=2, n_estimators=130; total time=   0.3s\n",
            "[CV] END bootstrap=False, max_depth=70, max_features=auto, min_samples_leaf=4, min_samples_split=2, n_estimators=130; total time=   0.3s\n",
            "[CV] END bootstrap=False, max_depth=70, max_features=auto, min_samples_leaf=4, min_samples_split=2, n_estimators=130; total time=   0.3s\n",
            "[CV] END bootstrap=True, max_depth=20, max_features=sqrt, min_samples_leaf=1, min_samples_split=10, n_estimators=180; total time=   0.4s\n",
            "[CV] END bootstrap=True, max_depth=20, max_features=sqrt, min_samples_leaf=1, min_samples_split=10, n_estimators=180; total time=   0.4s\n",
            "[CV] END bootstrap=True, max_depth=20, max_features=sqrt, min_samples_leaf=1, min_samples_split=10, n_estimators=180; total time=   0.4s\n"
          ]
        },
        {
          "data": {
            "text/html": [
              "<style>#sk-container-id-3 {color: black;background-color: white;}#sk-container-id-3 pre{padding: 0;}#sk-container-id-3 div.sk-toggleable {background-color: white;}#sk-container-id-3 label.sk-toggleable__label {cursor: pointer;display: block;width: 100%;margin-bottom: 0;padding: 0.3em;box-sizing: border-box;text-align: center;}#sk-container-id-3 label.sk-toggleable__label-arrow:before {content: \"▸\";float: left;margin-right: 0.25em;color: #696969;}#sk-container-id-3 label.sk-toggleable__label-arrow:hover:before {color: black;}#sk-container-id-3 div.sk-estimator:hover label.sk-toggleable__label-arrow:before {color: black;}#sk-container-id-3 div.sk-toggleable__content {max-height: 0;max-width: 0;overflow: hidden;text-align: left;background-color: #f0f8ff;}#sk-container-id-3 div.sk-toggleable__content pre {margin: 0.2em;color: black;border-radius: 0.25em;background-color: #f0f8ff;}#sk-container-id-3 input.sk-toggleable__control:checked~div.sk-toggleable__content {max-height: 200px;max-width: 100%;overflow: auto;}#sk-container-id-3 input.sk-toggleable__control:checked~label.sk-toggleable__label-arrow:before {content: \"▾\";}#sk-container-id-3 div.sk-estimator input.sk-toggleable__control:checked~label.sk-toggleable__label {background-color: #d4ebff;}#sk-container-id-3 div.sk-label input.sk-toggleable__control:checked~label.sk-toggleable__label {background-color: #d4ebff;}#sk-container-id-3 input.sk-hidden--visually {border: 0;clip: rect(1px 1px 1px 1px);clip: rect(1px, 1px, 1px, 1px);height: 1px;margin: -1px;overflow: hidden;padding: 0;position: absolute;width: 1px;}#sk-container-id-3 div.sk-estimator {font-family: monospace;background-color: #f0f8ff;border: 1px dotted black;border-radius: 0.25em;box-sizing: border-box;margin-bottom: 0.5em;}#sk-container-id-3 div.sk-estimator:hover {background-color: #d4ebff;}#sk-container-id-3 div.sk-parallel-item::after {content: \"\";width: 100%;border-bottom: 1px solid gray;flex-grow: 1;}#sk-container-id-3 div.sk-label:hover label.sk-toggleable__label {background-color: #d4ebff;}#sk-container-id-3 div.sk-serial::before {content: \"\";position: absolute;border-left: 1px solid gray;box-sizing: border-box;top: 0;bottom: 0;left: 50%;z-index: 0;}#sk-container-id-3 div.sk-serial {display: flex;flex-direction: column;align-items: center;background-color: white;padding-right: 0.2em;padding-left: 0.2em;position: relative;}#sk-container-id-3 div.sk-item {position: relative;z-index: 1;}#sk-container-id-3 div.sk-parallel {display: flex;align-items: stretch;justify-content: center;background-color: white;position: relative;}#sk-container-id-3 div.sk-item::before, #sk-container-id-3 div.sk-parallel-item::before {content: \"\";position: absolute;border-left: 1px solid gray;box-sizing: border-box;top: 0;bottom: 0;left: 50%;z-index: -1;}#sk-container-id-3 div.sk-parallel-item {display: flex;flex-direction: column;z-index: 1;position: relative;background-color: white;}#sk-container-id-3 div.sk-parallel-item:first-child::after {align-self: flex-end;width: 50%;}#sk-container-id-3 div.sk-parallel-item:last-child::after {align-self: flex-start;width: 50%;}#sk-container-id-3 div.sk-parallel-item:only-child::after {width: 0;}#sk-container-id-3 div.sk-dashed-wrapped {border: 1px dashed gray;margin: 0 0.4em 0.5em 0.4em;box-sizing: border-box;padding-bottom: 0.4em;background-color: white;}#sk-container-id-3 div.sk-label label {font-family: monospace;font-weight: bold;display: inline-block;line-height: 1.2em;}#sk-container-id-3 div.sk-label-container {text-align: center;}#sk-container-id-3 div.sk-container {/* jupyter's `normalize.less` sets `[hidden] { display: none; }` but bootstrap.min.css set `[hidden] { display: none !important; }` so we also need the `!important` here to be able to override the default hidden behavior on the sphinx rendered scikit-learn.org. See: https://github.com/scikit-learn/scikit-learn/issues/21755 */display: inline-block !important;position: relative;}#sk-container-id-3 div.sk-text-repr-fallback {display: none;}</style><div id=\"sk-container-id-3\" class=\"sk-top-container\"><div class=\"sk-text-repr-fallback\"><pre>RandomizedSearchCV(cv=3,\n",
              "                   estimator=BalancedRandomForestClassifier(sampling_strategy=0.7),\n",
              "                   n_iter=100,\n",
              "                   param_distributions={&#x27;bootstrap&#x27;: [True, False],\n",
              "                                        &#x27;max_depth&#x27;: [10, 20, 30, 40, 50, 60,\n",
              "                                                      70, 80, 90, 100, 110],\n",
              "                                        &#x27;max_features&#x27;: [&#x27;auto&#x27;, &#x27;sqrt&#x27;],\n",
              "                                        &#x27;min_samples_leaf&#x27;: [1, 2, 4],\n",
              "                                        &#x27;min_samples_split&#x27;: [2, 5, 10],\n",
              "                                        &#x27;n_estimators&#x27;: [130, 180, 230]},\n",
              "                   random_state=412, verbose=2)</pre><b>In a Jupyter environment, please rerun this cell to show the HTML representation or trust the notebook. <br />On GitHub, the HTML representation is unable to render, please try loading this page with nbviewer.org.</b></div><div class=\"sk-container\" hidden><div class=\"sk-item sk-dashed-wrapped\"><div class=\"sk-label-container\"><div class=\"sk-label sk-toggleable\"><input class=\"sk-toggleable__control sk-hidden--visually\" id=\"sk-estimator-id-5\" type=\"checkbox\" ><label for=\"sk-estimator-id-5\" class=\"sk-toggleable__label sk-toggleable__label-arrow\">RandomizedSearchCV</label><div class=\"sk-toggleable__content\"><pre>RandomizedSearchCV(cv=3,\n",
              "                   estimator=BalancedRandomForestClassifier(sampling_strategy=0.7),\n",
              "                   n_iter=100,\n",
              "                   param_distributions={&#x27;bootstrap&#x27;: [True, False],\n",
              "                                        &#x27;max_depth&#x27;: [10, 20, 30, 40, 50, 60,\n",
              "                                                      70, 80, 90, 100, 110],\n",
              "                                        &#x27;max_features&#x27;: [&#x27;auto&#x27;, &#x27;sqrt&#x27;],\n",
              "                                        &#x27;min_samples_leaf&#x27;: [1, 2, 4],\n",
              "                                        &#x27;min_samples_split&#x27;: [2, 5, 10],\n",
              "                                        &#x27;n_estimators&#x27;: [130, 180, 230]},\n",
              "                   random_state=412, verbose=2)</pre></div></div></div><div class=\"sk-parallel\"><div class=\"sk-parallel-item\"><div class=\"sk-item\"><div class=\"sk-label-container\"><div class=\"sk-label sk-toggleable\"><input class=\"sk-toggleable__control sk-hidden--visually\" id=\"sk-estimator-id-6\" type=\"checkbox\" ><label for=\"sk-estimator-id-6\" class=\"sk-toggleable__label sk-toggleable__label-arrow\">estimator: BalancedRandomForestClassifier</label><div class=\"sk-toggleable__content\"><pre>BalancedRandomForestClassifier(sampling_strategy=0.7)</pre></div></div></div><div class=\"sk-serial\"><div class=\"sk-item\"><div class=\"sk-estimator sk-toggleable\"><input class=\"sk-toggleable__control sk-hidden--visually\" id=\"sk-estimator-id-7\" type=\"checkbox\" ><label for=\"sk-estimator-id-7\" class=\"sk-toggleable__label sk-toggleable__label-arrow\">BalancedRandomForestClassifier</label><div class=\"sk-toggleable__content\"><pre>BalancedRandomForestClassifier(sampling_strategy=0.7)</pre></div></div></div></div></div></div></div></div></div></div>"
            ],
            "text/plain": [
              "RandomizedSearchCV(cv=3,\n",
              "                   estimator=BalancedRandomForestClassifier(sampling_strategy=0.7),\n",
              "                   n_iter=100,\n",
              "                   param_distributions={'bootstrap': [True, False],\n",
              "                                        'max_depth': [10, 20, 30, 40, 50, 60,\n",
              "                                                      70, 80, 90, 100, 110],\n",
              "                                        'max_features': ['auto', 'sqrt'],\n",
              "                                        'min_samples_leaf': [1, 2, 4],\n",
              "                                        'min_samples_split': [2, 5, 10],\n",
              "                                        'n_estimators': [130, 180, 230]},\n",
              "                   random_state=412, verbose=2)"
            ]
          },
          "execution_count": 68,
          "metadata": {},
          "output_type": "execute_result"
        }
      ],
      "source": [
        "import warnings\n",
        "warnings.simplefilter('ignore')\n",
        "randomCv.fit(X, y)"
      ]
    },
    {
      "cell_type": "code",
      "execution_count": 72,
      "metadata": {},
      "outputs": [
        {
          "data": {
            "text/plain": [
              "{'n_estimators': 130,\n",
              " 'min_samples_split': 2,\n",
              " 'min_samples_leaf': 1,\n",
              " 'max_features': 'auto',\n",
              " 'max_depth': 50,\n",
              " 'bootstrap': False}"
            ]
          },
          "execution_count": 72,
          "metadata": {},
          "output_type": "execute_result"
        }
      ],
      "source": [
        "randomCv.best_params_"
      ]
    },
    {
      "cell_type": "code",
      "execution_count": 73,
      "metadata": {},
      "outputs": [],
      "source": [
        "newModel = BalancedRandomForestClassifier(sampling_strategy=0.7,n_estimators= 130,min_samples_split= 2,min_samples_leaf= 1,max_features= 'auto',max_depth= 50,bootstrap= False)"
      ]
    },
    {
      "cell_type": "code",
      "execution_count": 74,
      "metadata": {},
      "outputs": [],
      "source": [
        "best_params_brf = newModel.fit(X, y)"
      ]
    },
    {
      "cell_type": "code",
      "execution_count": 76,
      "metadata": {},
      "outputs": [],
      "source": [
        "from sklearn.metrics import classification_report"
      ]
    },
    {
      "cell_type": "code",
      "execution_count": 77,
      "metadata": {},
      "outputs": [
        {
          "name": "stdout",
          "output_type": "stream",
          "text": [
            "              precision    recall  f1-score   support\n",
            "\n",
            "           0       1.00      0.93      0.96       549\n",
            "           1       0.77      1.00      0.87       131\n",
            "\n",
            "    accuracy                           0.94       680\n",
            "   macro avg       0.89      0.96      0.92       680\n",
            "weighted avg       0.96      0.94      0.95       680\n",
            "\n"
          ]
        }
      ],
      "source": [
        "print(classification_report(y_test, newModel.predict(X_test)))"
      ]
    },
    {
      "cell_type": "code",
      "execution_count": 78,
      "metadata": {},
      "outputs": [],
      "source": [
        "Y_hat = newModel.predict(test)"
      ]
    },
    {
      "cell_type": "code",
      "execution_count": 79,
      "metadata": {},
      "outputs": [
        {
          "data": {
            "text/plain": [
              "0    139\n",
              "1     61\n",
              "Name: Class/ASD, dtype: int64"
            ]
          },
          "execution_count": 79,
          "metadata": {},
          "output_type": "execute_result"
        }
      ],
      "source": [
        "random_balrf_sub = pd.DataFrame({'ID':id, 'Class/ASD':Y_hat})\n",
        "random_balrf_sub['Class/ASD'].value_counts()"
      ]
    },
    {
      "cell_type": "code",
      "execution_count": 80,
      "metadata": {},
      "outputs": [],
      "source": [
        "random_balrf_sub.to_csv('randomCV_bal_rf_sub.csv',index=False)"
      ]
    },
    {
      "cell_type": "markdown",
      "metadata": {},
      "source": [
        "## After Oversampling the data"
      ]
    },
    {
      "cell_type": "code",
      "execution_count": 83,
      "metadata": {},
      "outputs": [],
      "source": [
        "from imblearn.over_sampling import RandomOverSampler"
      ]
    },
    {
      "cell_type": "code",
      "execution_count": 86,
      "metadata": {},
      "outputs": [],
      "source": [
        "# Randomly over sample the minority class\n",
        "ros = RandomOverSampler(random_state=42)"
      ]
    },
    {
      "cell_type": "code",
      "execution_count": 87,
      "metadata": {},
      "outputs": [],
      "source": [
        "X_train_ros, y_train_ros= ros.fit_resample(X_train, y_train)"
      ]
    },
    {
      "cell_type": "markdown",
      "metadata": {},
      "source": [
        "## Simple Neural Network Sampled"
      ]
    },
    {
      "cell_type": "code",
      "execution_count": 172,
      "metadata": {},
      "outputs": [
        {
          "name": "stdout",
          "output_type": "stream",
          "text": [
            "Model: \"sequential_7\"\n",
            "_________________________________________________________________\n",
            " Layer (type)                Output Shape              Param #   \n",
            "=================================================================\n",
            " dense_44 (Dense)            (None, 128)               2560      \n",
            "                                                                 \n",
            " dense_45 (Dense)            (None, 32)                4128      \n",
            "                                                                 \n",
            " dense_46 (Dense)            (None, 32)                1056      \n",
            "                                                                 \n",
            " dense_47 (Dense)            (None, 16)                528       \n",
            "                                                                 \n",
            " dense_48 (Dense)            (None, 8)                 136       \n",
            "                                                                 \n",
            " dense_49 (Dense)            (None, 1)                 9         \n",
            "                                                                 \n",
            "=================================================================\n",
            "Total params: 8,417\n",
            "Trainable params: 8,417\n",
            "Non-trainable params: 0\n",
            "_________________________________________________________________\n"
          ]
        }
      ],
      "source": [
        "classifier = Sequential()\n",
        "#First Hidden Layer\n",
        "classifier.add(Dense(128, activation='relu', kernel_initializer='random_normal', input_dim=X_train_ros.shape[1]))\n",
        "#Second  Hidden Layer\n",
        "classifier.add(Dense(32, activation='relu', kernel_initializer='random_normal'))\n",
        "#Third  Hidden Layer\n",
        "classifier.add(Dense(32, activation='relu', kernel_initializer='random_normal'))\n",
        "#Fourth Layer\n",
        "classifier.add(Dense(16, activation='relu', kernel_initializer='random_normal'))\n",
        "#Fifth Layer\n",
        "classifier.add(Dense(8, activation='relu', kernel_initializer='random_normal'))\n",
        "#Output Layer\n",
        "classifier.add(Dense(1, activation='sigmoid', kernel_initializer='random_normal'))\n",
        "\n",
        "classifier.summary()"
      ]
    },
    {
      "cell_type": "code",
      "execution_count": 173,
      "metadata": {},
      "outputs": [
        {
          "name": "stdout",
          "output_type": "stream",
          "text": [
            "Epoch 1/80\n",
            "3/3 [==============================] - 1s 72ms/step - loss: 0.6931 - accuracy: 0.5000 - val_loss: 0.6946 - val_accuracy: 0.1926\n",
            "Epoch 2/80\n",
            "3/3 [==============================] - 0s 13ms/step - loss: 0.6927 - accuracy: 0.5000 - val_loss: 0.6951 - val_accuracy: 0.1941\n",
            "Epoch 3/80\n",
            "3/3 [==============================] - 0s 15ms/step - loss: 0.6920 - accuracy: 0.5000 - val_loss: 0.6994 - val_accuracy: 0.1926\n",
            "Epoch 4/80\n",
            "3/3 [==============================] - 0s 16ms/step - loss: 0.6890 - accuracy: 0.5000 - val_loss: 0.7122 - val_accuracy: 0.1941\n",
            "Epoch 5/80\n",
            "3/3 [==============================] - 0s 17ms/step - loss: 0.6850 - accuracy: 0.5000 - val_loss: 0.7406 - val_accuracy: 0.2015\n",
            "Epoch 6/80\n",
            "3/3 [==============================] - 0s 41ms/step - loss: 0.6753 - accuracy: 0.5167 - val_loss: 0.7660 - val_accuracy: 0.2368\n",
            "Epoch 7/80\n",
            "3/3 [==============================] - 0s 17ms/step - loss: 0.6651 - accuracy: 0.5444 - val_loss: 0.7758 - val_accuracy: 0.2956\n",
            "Epoch 8/80\n",
            "3/3 [==============================] - 0s 15ms/step - loss: 0.6553 - accuracy: 0.5722 - val_loss: 0.7815 - val_accuracy: 0.4029\n",
            "Epoch 9/80\n",
            "3/3 [==============================] - 0s 16ms/step - loss: 0.6470 - accuracy: 0.6222 - val_loss: 0.7905 - val_accuracy: 0.4485\n",
            "Epoch 10/80\n",
            "3/3 [==============================] - 0s 15ms/step - loss: 0.6406 - accuracy: 0.6667 - val_loss: 0.7474 - val_accuracy: 0.5471\n",
            "Epoch 11/80\n",
            "3/3 [==============================] - 0s 16ms/step - loss: 0.6271 - accuracy: 0.6778 - val_loss: 0.7971 - val_accuracy: 0.4985\n",
            "Epoch 12/80\n",
            "3/3 [==============================] - 0s 15ms/step - loss: 0.6184 - accuracy: 0.7000 - val_loss: 0.7934 - val_accuracy: 0.5206\n",
            "Epoch 13/80\n",
            "3/3 [==============================] - 0s 15ms/step - loss: 0.6015 - accuracy: 0.7222 - val_loss: 0.7257 - val_accuracy: 0.6000\n",
            "Epoch 14/80\n",
            "3/3 [==============================] - 0s 16ms/step - loss: 0.5789 - accuracy: 0.7278 - val_loss: 0.7320 - val_accuracy: 0.6147\n",
            "Epoch 15/80\n",
            "3/3 [==============================] - 0s 15ms/step - loss: 0.5549 - accuracy: 0.7556 - val_loss: 0.6694 - val_accuracy: 0.6882\n",
            "Epoch 16/80\n",
            "3/3 [==============================] - 0s 15ms/step - loss: 0.5301 - accuracy: 0.7778 - val_loss: 0.6592 - val_accuracy: 0.6971\n",
            "Epoch 17/80\n",
            "3/3 [==============================] - 0s 15ms/step - loss: 0.4934 - accuracy: 0.7722 - val_loss: 0.6286 - val_accuracy: 0.7191\n",
            "Epoch 18/80\n",
            "3/3 [==============================] - 0s 17ms/step - loss: 0.4508 - accuracy: 0.8167 - val_loss: 0.5517 - val_accuracy: 0.7529\n",
            "Epoch 19/80\n",
            "3/3 [==============================] - 0s 16ms/step - loss: 0.4533 - accuracy: 0.7944 - val_loss: 0.4478 - val_accuracy: 0.8000\n",
            "Epoch 20/80\n",
            "3/3 [==============================] - 0s 15ms/step - loss: 0.4771 - accuracy: 0.8333 - val_loss: 0.5876 - val_accuracy: 0.7441\n",
            "Epoch 21/80\n",
            "3/3 [==============================] - 0s 19ms/step - loss: 0.4299 - accuracy: 0.8056 - val_loss: 0.6433 - val_accuracy: 0.7294\n",
            "Epoch 22/80\n",
            "3/3 [==============================] - 0s 20ms/step - loss: 0.4257 - accuracy: 0.8222 - val_loss: 0.4068 - val_accuracy: 0.8176\n",
            "Epoch 23/80\n",
            "3/3 [==============================] - 0s 15ms/step - loss: 0.3697 - accuracy: 0.8444 - val_loss: 0.6188 - val_accuracy: 0.7456\n",
            "Epoch 24/80\n",
            "3/3 [==============================] - 0s 16ms/step - loss: 0.3959 - accuracy: 0.8278 - val_loss: 0.4914 - val_accuracy: 0.7824\n",
            "Epoch 25/80\n",
            "3/3 [==============================] - 0s 21ms/step - loss: 0.3868 - accuracy: 0.8722 - val_loss: 0.3938 - val_accuracy: 0.8206\n",
            "Epoch 26/80\n",
            "3/3 [==============================] - 0s 15ms/step - loss: 0.3541 - accuracy: 0.8500 - val_loss: 0.6282 - val_accuracy: 0.7441\n",
            "Epoch 27/80\n",
            "3/3 [==============================] - 0s 16ms/step - loss: 0.3642 - accuracy: 0.8500 - val_loss: 0.4723 - val_accuracy: 0.7926\n",
            "Epoch 28/80\n",
            "3/3 [==============================] - 0s 15ms/step - loss: 0.3526 - accuracy: 0.8611 - val_loss: 0.3768 - val_accuracy: 0.8324\n",
            "Epoch 29/80\n",
            "3/3 [==============================] - 0s 15ms/step - loss: 0.3222 - accuracy: 0.8778 - val_loss: 0.5577 - val_accuracy: 0.7779\n",
            "Epoch 30/80\n",
            "3/3 [==============================] - 0s 16ms/step - loss: 0.3414 - accuracy: 0.8389 - val_loss: 0.5392 - val_accuracy: 0.7838\n",
            "Epoch 31/80\n",
            "3/3 [==============================] - 0s 16ms/step - loss: 0.3197 - accuracy: 0.8556 - val_loss: 0.3825 - val_accuracy: 0.8279\n",
            "Epoch 32/80\n",
            "3/3 [==============================] - 0s 14ms/step - loss: 0.3127 - accuracy: 0.8778 - val_loss: 0.4767 - val_accuracy: 0.7926\n",
            "Epoch 33/80\n",
            "3/3 [==============================] - 0s 15ms/step - loss: 0.3397 - accuracy: 0.8389 - val_loss: 0.5795 - val_accuracy: 0.7794\n",
            "Epoch 34/80\n",
            "3/3 [==============================] - 0s 15ms/step - loss: 0.3022 - accuracy: 0.8667 - val_loss: 0.3586 - val_accuracy: 0.8279\n",
            "Epoch 35/80\n",
            "3/3 [==============================] - 0s 15ms/step - loss: 0.3152 - accuracy: 0.8889 - val_loss: 0.4510 - val_accuracy: 0.8029\n",
            "Epoch 36/80\n",
            "3/3 [==============================] - 0s 15ms/step - loss: 0.2962 - accuracy: 0.8722 - val_loss: 0.5388 - val_accuracy: 0.7882\n",
            "Epoch 37/80\n",
            "3/3 [==============================] - 0s 16ms/step - loss: 0.2851 - accuracy: 0.8667 - val_loss: 0.3890 - val_accuracy: 0.8162\n",
            "Epoch 38/80\n",
            "3/3 [==============================] - 0s 15ms/step - loss: 0.2879 - accuracy: 0.8944 - val_loss: 0.4377 - val_accuracy: 0.8059\n",
            "Epoch 39/80\n",
            "3/3 [==============================] - 0s 16ms/step - loss: 0.2714 - accuracy: 0.8667 - val_loss: 0.5155 - val_accuracy: 0.7882\n",
            "Epoch 40/80\n",
            "3/3 [==============================] - 0s 15ms/step - loss: 0.2699 - accuracy: 0.8611 - val_loss: 0.4096 - val_accuracy: 0.8162\n",
            "Epoch 41/80\n",
            "3/3 [==============================] - 0s 15ms/step - loss: 0.2642 - accuracy: 0.9111 - val_loss: 0.4317 - val_accuracy: 0.8103\n",
            "Epoch 42/80\n",
            "3/3 [==============================] - 0s 15ms/step - loss: 0.2529 - accuracy: 0.8889 - val_loss: 0.4963 - val_accuracy: 0.8000\n",
            "Epoch 43/80\n",
            "3/3 [==============================] - 0s 14ms/step - loss: 0.2573 - accuracy: 0.8778 - val_loss: 0.4371 - val_accuracy: 0.8147\n",
            "Epoch 44/80\n",
            "3/3 [==============================] - 0s 18ms/step - loss: 0.2498 - accuracy: 0.8889 - val_loss: 0.4419 - val_accuracy: 0.8103\n",
            "Epoch 45/80\n",
            "3/3 [==============================] - 0s 15ms/step - loss: 0.2690 - accuracy: 0.9000 - val_loss: 0.4261 - val_accuracy: 0.8206\n",
            "Epoch 46/80\n",
            "3/3 [==============================] - 0s 15ms/step - loss: 0.2349 - accuracy: 0.8889 - val_loss: 0.5642 - val_accuracy: 0.7882\n",
            "Epoch 47/80\n",
            "3/3 [==============================] - 0s 15ms/step - loss: 0.2549 - accuracy: 0.8833 - val_loss: 0.4245 - val_accuracy: 0.8162\n",
            "Epoch 48/80\n",
            "3/3 [==============================] - 0s 14ms/step - loss: 0.2314 - accuracy: 0.9111 - val_loss: 0.3986 - val_accuracy: 0.8235\n",
            "Epoch 49/80\n",
            "3/3 [==============================] - 0s 14ms/step - loss: 0.2340 - accuracy: 0.9278 - val_loss: 0.4731 - val_accuracy: 0.8044\n",
            "Epoch 50/80\n",
            "3/3 [==============================] - 0s 15ms/step - loss: 0.2285 - accuracy: 0.9000 - val_loss: 0.5082 - val_accuracy: 0.8015\n",
            "Epoch 51/80\n",
            "3/3 [==============================] - 0s 14ms/step - loss: 0.2206 - accuracy: 0.9000 - val_loss: 0.3951 - val_accuracy: 0.8309\n",
            "Epoch 52/80\n",
            "3/3 [==============================] - 0s 17ms/step - loss: 0.2270 - accuracy: 0.9167 - val_loss: 0.4296 - val_accuracy: 0.8147\n",
            "Epoch 53/80\n",
            "3/3 [==============================] - 0s 15ms/step - loss: 0.2170 - accuracy: 0.9111 - val_loss: 0.4738 - val_accuracy: 0.8074\n",
            "Epoch 54/80\n",
            "3/3 [==============================] - 0s 15ms/step - loss: 0.2119 - accuracy: 0.9000 - val_loss: 0.4363 - val_accuracy: 0.8132\n",
            "Epoch 55/80\n",
            "3/3 [==============================] - 0s 15ms/step - loss: 0.2085 - accuracy: 0.9389 - val_loss: 0.4339 - val_accuracy: 0.8162\n",
            "Epoch 56/80\n",
            "3/3 [==============================] - 0s 16ms/step - loss: 0.2152 - accuracy: 0.9111 - val_loss: 0.5263 - val_accuracy: 0.8029\n",
            "Epoch 57/80\n",
            "3/3 [==============================] - 0s 19ms/step - loss: 0.1947 - accuracy: 0.9000 - val_loss: 0.3940 - val_accuracy: 0.8309\n",
            "Epoch 58/80\n",
            "3/3 [==============================] - 0s 16ms/step - loss: 0.2086 - accuracy: 0.9333 - val_loss: 0.4537 - val_accuracy: 0.8088\n",
            "Epoch 59/80\n",
            "3/3 [==============================] - 0s 15ms/step - loss: 0.2200 - accuracy: 0.9056 - val_loss: 0.5773 - val_accuracy: 0.7985\n",
            "Epoch 60/80\n",
            "3/3 [==============================] - 0s 17ms/step - loss: 0.2217 - accuracy: 0.9167 - val_loss: 0.3985 - val_accuracy: 0.8265\n",
            "Epoch 61/80\n",
            "3/3 [==============================] - 0s 15ms/step - loss: 0.1882 - accuracy: 0.9389 - val_loss: 0.6128 - val_accuracy: 0.7926\n",
            "Epoch 62/80\n",
            "3/3 [==============================] - 0s 15ms/step - loss: 0.2043 - accuracy: 0.9056 - val_loss: 0.4901 - val_accuracy: 0.8074\n",
            "Epoch 63/80\n",
            "3/3 [==============================] - 0s 16ms/step - loss: 0.1796 - accuracy: 0.9278 - val_loss: 0.4140 - val_accuracy: 0.8162\n",
            "Epoch 64/80\n",
            "3/3 [==============================] - 0s 15ms/step - loss: 0.1724 - accuracy: 0.9389 - val_loss: 0.5253 - val_accuracy: 0.8015\n",
            "Epoch 65/80\n",
            "3/3 [==============================] - 0s 16ms/step - loss: 0.1722 - accuracy: 0.9056 - val_loss: 0.5125 - val_accuracy: 0.8074\n",
            "Epoch 66/80\n",
            "3/3 [==============================] - 0s 16ms/step - loss: 0.1619 - accuracy: 0.9278 - val_loss: 0.4360 - val_accuracy: 0.8191\n",
            "Epoch 67/80\n",
            "3/3 [==============================] - 0s 17ms/step - loss: 0.1764 - accuracy: 0.9444 - val_loss: 0.5286 - val_accuracy: 0.8029\n",
            "Epoch 68/80\n",
            "3/3 [==============================] - 0s 18ms/step - loss: 0.1588 - accuracy: 0.9278 - val_loss: 0.5093 - val_accuracy: 0.8029\n",
            "Epoch 69/80\n",
            "3/3 [==============================] - 0s 16ms/step - loss: 0.1535 - accuracy: 0.9278 - val_loss: 0.4812 - val_accuracy: 0.8088\n",
            "Epoch 70/80\n",
            "3/3 [==============================] - 0s 16ms/step - loss: 0.1587 - accuracy: 0.9389 - val_loss: 0.4875 - val_accuracy: 0.8044\n",
            "Epoch 71/80\n",
            "3/3 [==============================] - 0s 19ms/step - loss: 0.1416 - accuracy: 0.9278 - val_loss: 0.5438 - val_accuracy: 0.8015\n",
            "Epoch 72/80\n",
            "3/3 [==============================] - 0s 20ms/step - loss: 0.1498 - accuracy: 0.9333 - val_loss: 0.4881 - val_accuracy: 0.8118\n",
            "Epoch 73/80\n",
            "3/3 [==============================] - 0s 14ms/step - loss: 0.1399 - accuracy: 0.9333 - val_loss: 0.5235 - val_accuracy: 0.7956\n",
            "Epoch 74/80\n",
            "3/3 [==============================] - 0s 14ms/step - loss: 0.1327 - accuracy: 0.9278 - val_loss: 0.4676 - val_accuracy: 0.8250\n",
            "Epoch 75/80\n",
            "3/3 [==============================] - 0s 18ms/step - loss: 0.1342 - accuracy: 0.9444 - val_loss: 0.5065 - val_accuracy: 0.8074\n",
            "Epoch 76/80\n",
            "3/3 [==============================] - 0s 15ms/step - loss: 0.1386 - accuracy: 0.9444 - val_loss: 0.5509 - val_accuracy: 0.8015\n",
            "Epoch 77/80\n",
            "3/3 [==============================] - 0s 16ms/step - loss: 0.1199 - accuracy: 0.9444 - val_loss: 0.4777 - val_accuracy: 0.8265\n",
            "Epoch 78/80\n",
            "3/3 [==============================] - 0s 15ms/step - loss: 0.1212 - accuracy: 0.9444 - val_loss: 0.5592 - val_accuracy: 0.8000\n",
            "Epoch 79/80\n",
            "3/3 [==============================] - 0s 16ms/step - loss: 0.1146 - accuracy: 0.9389 - val_loss: 0.5247 - val_accuracy: 0.8103\n",
            "Epoch 80/80\n",
            "3/3 [==============================] - 0s 23ms/step - loss: 0.1097 - accuracy: 0.9444 - val_loss: 0.5388 - val_accuracy: 0.8088\n"
          ]
        }
      ],
      "source": [
        "classifier.compile(optimizer=opt, loss='binary_crossentropy',metrics=['accuracy'])\n",
        "\n",
        "hist = classifier.fit(X_train_ros,\n",
        "                    y_train_ros,\n",
        "                    epochs=80, # you can set this to a big number!\n",
        "                    batch_size=64,\n",
        "                    validation_data=(X_test,y_test),\n",
        "                    shuffle=True,\n",
        "                    verbose=1)"
      ]
    },
    {
      "cell_type": "code",
      "execution_count": 174,
      "metadata": {},
      "outputs": [
        {
          "name": "stdout",
          "output_type": "stream",
          "text": [
            "22/22 [==============================] - 0s 962us/step - loss: 0.5388 - accuracy: 0.8088\n"
          ]
        },
        {
          "data": {
            "text/plain": [
              "[0.5388345122337341, 0.8088235259056091]"
            ]
          },
          "execution_count": 174,
          "metadata": {},
          "output_type": "execute_result"
        }
      ],
      "source": [
        "classifier.evaluate(X_test, y_test)"
      ]
    },
    {
      "cell_type": "code",
      "execution_count": 175,
      "metadata": {},
      "outputs": [
        {
          "name": "stdout",
          "output_type": "stream",
          "text": [
            "7/7 [==============================] - 0s 1ms/step\n"
          ]
        }
      ],
      "source": [
        "y_pred=classifier.predict(test)\n",
        "y_pred =(y_pred>0.5)"
      ]
    },
    {
      "cell_type": "code",
      "execution_count": 176,
      "metadata": {},
      "outputs": [],
      "source": [
        "sub_sample = []\n",
        "for val in y_pred:\n",
        "    if val[0] == True:\n",
        "        sub_sample.append(1)\n",
        "    else:\n",
        "        sub_sample.append(0)"
      ]
    },
    {
      "cell_type": "code",
      "execution_count": 177,
      "metadata": {},
      "outputs": [
        {
          "data": {
            "text/plain": [
              "0    132\n",
              "1     68\n",
              "Name: Class/ASD, dtype: int64"
            ]
          },
          "execution_count": 177,
          "metadata": {},
          "output_type": "execute_result"
        }
      ],
      "source": [
        "nn_sample = pd.DataFrame({'ID':id, 'Class/ASD':sub_sample})\n",
        "nn_sample['Class/ASD'].value_counts()"
      ]
    },
    {
      "cell_type": "code",
      "execution_count": 171,
      "metadata": {},
      "outputs": [],
      "source": [
        "nn_sample.to_csv('NeuralNetSampleRes.csv',index=False)"
      ]
    },
    {
      "cell_type": "markdown",
      "metadata": {},
      "source": [
        "## Balanced Random Forest Sampled"
      ]
    },
    {
      "cell_type": "code",
      "execution_count": 115,
      "metadata": {},
      "outputs": [],
      "source": [
        "bal_rf_sample = BalancedRandomForestClassifier(sampling_strategy=1.0) "
      ]
    },
    {
      "cell_type": "code",
      "execution_count": 117,
      "metadata": {},
      "outputs": [],
      "source": [
        "bal_rf_sample = bal_rf_sample.fit(X_train_ros, y_train_ros)"
      ]
    },
    {
      "cell_type": "code",
      "execution_count": 118,
      "metadata": {},
      "outputs": [
        {
          "name": "stdout",
          "output_type": "stream",
          "text": [
            "              precision    recall  f1-score   support\n",
            "\n",
            "           0       0.94      0.87      0.91       549\n",
            "           1       0.59      0.78      0.67       131\n",
            "\n",
            "    accuracy                           0.85       680\n",
            "   macro avg       0.77      0.82      0.79       680\n",
            "weighted avg       0.87      0.85      0.86       680\n",
            "\n"
          ]
        }
      ],
      "source": [
        "print(classification_report(y_test, bal_rf_sample.predict(X_test)))"
      ]
    },
    {
      "cell_type": "code",
      "execution_count": 119,
      "metadata": {},
      "outputs": [],
      "source": [
        "Y_hat_new = bal_rf_sample.predict(test)"
      ]
    },
    {
      "cell_type": "code",
      "execution_count": 120,
      "metadata": {},
      "outputs": [
        {
          "data": {
            "text/plain": [
              "0    155\n",
              "1     45\n",
              "Name: Class/ASD, dtype: int64"
            ]
          },
          "execution_count": 120,
          "metadata": {},
          "output_type": "execute_result"
        }
      ],
      "source": [
        "random_balrf_bal = pd.DataFrame({'ID':id, 'Class/ASD':Y_hat_new})\n",
        "random_balrf_bal['Class/ASD'].value_counts()"
      ]
    },
    {
      "cell_type": "code",
      "execution_count": 121,
      "metadata": {},
      "outputs": [],
      "source": [
        "random_balrf_bal.to_csv('bal_rf_sample.csv',index=False)"
      ]
    },
    {
      "cell_type": "markdown",
      "metadata": {},
      "source": [
        "## Neural Network with Top features"
      ]
    },
    {
      "cell_type": "code",
      "execution_count": 178,
      "metadata": {},
      "outputs": [],
      "source": [
        "from sklearn.feature_selection import SelectKBest\n",
        "from sklearn.feature_selection import chi2"
      ]
    },
    {
      "cell_type": "code",
      "execution_count": 179,
      "metadata": {},
      "outputs": [
        {
          "name": "stdout",
          "output_type": "stream",
          "text": [
            "            Specs       Score\n",
            "12      ethnicity  445.466597\n",
            "15  contry_of_res  300.831438\n",
            "5        A6_Score  164.237125\n",
            "3        A4_Score  117.490026\n",
            "4        A5_Score  103.205602\n",
            "6        A7_Score   98.621908\n",
            "2        A3_Score   93.479438\n",
            "10            age   91.887437\n",
            "8        A9_Score   86.734950\n",
            "14         austim   86.325667\n"
          ]
        }
      ],
      "source": [
        "bestfeatures = SelectKBest(score_func=chi2, k=10)\n",
        "fit = bestfeatures.fit(X.drop('result',axis=1),y)\n",
        "dfscores = pd.DataFrame(fit.scores_)\n",
        "dfcolumns = pd.DataFrame(X.columns)\n",
        "#concat two dataframes for better visualization \n",
        "featureScores = pd.concat([dfcolumns,dfscores],axis=1)\n",
        "featureScores.columns = ['Specs','Score']  #naming the dataframe columns\n",
        "print(featureScores.nlargest(10,'Score'))  #print 10 best features"
      ]
    },
    {
      "cell_type": "code",
      "execution_count": 180,
      "metadata": {},
      "outputs": [],
      "source": [
        "feat_top = pd.DataFrame(featureScores.nlargest(10,'Score'))\n",
        "cols = feat_top.Specs\n",
        "cols = cols.tolist()\n",
        "cols.append('result')\n",
        "# cols.append('jaundice')\n",
        "# cols.append('austim')\n",
        "X = X[cols]"
      ]
    },
    {
      "cell_type": "code",
      "execution_count": 182,
      "metadata": {},
      "outputs": [],
      "source": [
        "Xtest, Xtrain, ytest, ytrain = train_test_split(X, y, test_size=0.15, random_state=101,shuffle=True,stratify=y)"
      ]
    },
    {
      "cell_type": "code",
      "execution_count": 188,
      "metadata": {},
      "outputs": [],
      "source": [
        "Xtrain_ros, ytrain_ros= ros.fit_resample(Xtrain, ytrain)"
      ]
    },
    {
      "cell_type": "code",
      "execution_count": 190,
      "metadata": {},
      "outputs": [],
      "source": [
        "Xtest_ros, ytest_ros= ros.fit_resample(Xtest, ytest)"
      ]
    },
    {
      "cell_type": "code",
      "execution_count": 199,
      "metadata": {},
      "outputs": [
        {
          "name": "stdout",
          "output_type": "stream",
          "text": [
            "Model: \"sequential_13\"\n",
            "_________________________________________________________________\n",
            " Layer (type)                Output Shape              Param #   \n",
            "=================================================================\n",
            " dense_90 (Dense)            (None, 512)               6144      \n",
            "                                                                 \n",
            " dropout_48 (Dropout)        (None, 512)               0         \n",
            "                                                                 \n",
            " dense_91 (Dense)            (None, 256)               131328    \n",
            "                                                                 \n",
            " dropout_49 (Dropout)        (None, 256)               0         \n",
            "                                                                 \n",
            " dense_92 (Dense)            (None, 128)               32896     \n",
            "                                                                 \n",
            " dense_93 (Dense)            (None, 64)                8256      \n",
            "                                                                 \n",
            " dropout_50 (Dropout)        (None, 64)                0         \n",
            "                                                                 \n",
            " dense_94 (Dense)            (None, 32)                2080      \n",
            "                                                                 \n",
            " dropout_51 (Dropout)        (None, 32)                0         \n",
            "                                                                 \n",
            " dense_95 (Dense)            (None, 16)                528       \n",
            "                                                                 \n",
            " dropout_52 (Dropout)        (None, 16)                0         \n",
            "                                                                 \n",
            " dense_96 (Dense)            (None, 8)                 136       \n",
            "                                                                 \n",
            " dropout_53 (Dropout)        (None, 8)                 0         \n",
            "                                                                 \n",
            " dense_97 (Dense)            (None, 1)                 9         \n",
            "                                                                 \n",
            "=================================================================\n",
            "Total params: 181,377\n",
            "Trainable params: 181,377\n",
            "Non-trainable params: 0\n",
            "_________________________________________________________________\n"
          ]
        }
      ],
      "source": [
        "import random\n",
        "random.seed(0)\n",
        "\n",
        "\n",
        "def createModel():\n",
        "    model = Sequential()\n",
        "    model.add(Dense(512, input_shape=(Xtrain_ros.shape[1],), activation='relu')) # Add an input shape! (features,)\n",
        "\n",
        "    model.add(Dropout(0.1))\n",
        "    model.add(Dense(256, activation='relu'))\n",
        "\n",
        "    model.add(Dropout(0.15))\n",
        "    model.add(Dense(128, activation='relu'))\n",
        "    model.add(Dense(64, activation='relu'))\n",
        "\n",
        "    model.add(Dropout(0.2))\n",
        "    model.add(Dense(32, activation='relu'))\n",
        "\n",
        "    model.add(Dropout(0.1))\n",
        "    model.add(Dense(16, activation='relu'))\n",
        "\n",
        "    model.add(Dropout(0.25))\n",
        "    model.add(Dense(8, activation='relu'))\n",
        "\n",
        "    model.add(Dropout(0.15))\n",
        "    model.add(Dense(1, activation='sigmoid'))\n",
        "    model.summary() \n",
        "    return model\n",
        "\n",
        "model = createModel()"
      ]
    },
    {
      "cell_type": "code",
      "execution_count": 200,
      "metadata": {},
      "outputs": [
        {
          "name": "stdout",
          "output_type": "stream",
          "text": [
            "Epoch 1/80\n",
            "3/3 [==============================] - 1s 83ms/step - loss: 2.1720 - accuracy: 0.4479 - val_loss: 1.7970 - val_accuracy: 0.2015\n",
            "Epoch 2/80\n",
            "3/3 [==============================] - 0s 18ms/step - loss: 1.1451 - accuracy: 0.4792 - val_loss: 0.6571 - val_accuracy: 0.7971\n",
            "Epoch 3/80\n",
            "3/3 [==============================] - 0s 20ms/step - loss: 0.7334 - accuracy: 0.4531 - val_loss: 0.7231 - val_accuracy: 0.2015\n",
            "Epoch 4/80\n",
            "3/3 [==============================] - 0s 21ms/step - loss: 0.7269 - accuracy: 0.4948 - val_loss: 0.7257 - val_accuracy: 0.2015\n",
            "Epoch 5/80\n",
            "3/3 [==============================] - 0s 19ms/step - loss: 0.6774 - accuracy: 0.5469 - val_loss: 0.7119 - val_accuracy: 0.2853\n",
            "Epoch 6/80\n",
            "3/3 [==============================] - 0s 20ms/step - loss: 0.6946 - accuracy: 0.4479 - val_loss: 0.7256 - val_accuracy: 0.2044\n",
            "Epoch 7/80\n",
            "3/3 [==============================] - 0s 23ms/step - loss: 0.7195 - accuracy: 0.4948 - val_loss: 0.6972 - val_accuracy: 0.5132\n",
            "Epoch 8/80\n",
            "3/3 [==============================] - 0s 22ms/step - loss: 0.6938 - accuracy: 0.4792 - val_loss: 0.6992 - val_accuracy: 0.3441\n",
            "Epoch 9/80\n",
            "3/3 [==============================] - 0s 19ms/step - loss: 0.6951 - accuracy: 0.4844 - val_loss: 0.7057 - val_accuracy: 0.2015\n",
            "Epoch 10/80\n",
            "3/3 [==============================] - 0s 23ms/step - loss: 0.6977 - accuracy: 0.5312 - val_loss: 0.7097 - val_accuracy: 0.2015\n",
            "Epoch 11/80\n",
            "3/3 [==============================] - 0s 45ms/step - loss: 0.6845 - accuracy: 0.5365 - val_loss: 0.7234 - val_accuracy: 0.2015\n",
            "Epoch 12/80\n",
            "3/3 [==============================] - 0s 21ms/step - loss: 0.6964 - accuracy: 0.4531 - val_loss: 0.7160 - val_accuracy: 0.2015\n"
          ]
        }
      ],
      "source": [
        "opt = keras.optimizers.Adam(learning_rate=0.01)\n",
        "# compile the model\n",
        "model.compile(optimizer=opt, \n",
        "              loss='binary_crossentropy',\n",
        "              metrics=['accuracy'])\n",
        "\n",
        "# early stopping callback\n",
        "# This callback will stop the training when there is no improvement in  \n",
        "# the validation loss for 10 consecutive epochs.  \n",
        "es = EarlyStopping(monitor='val_accuracy', \n",
        "                                   mode='max', # don't minimize the accuracy!\n",
        "                                   patience=10,\n",
        "                                   restore_best_weights=True)\n",
        "\n",
        "# now we just update our model fit call\n",
        "history = model.fit(Xtrain_ros,\n",
        "                    ytrain_ros,\n",
        "                    callbacks=[es],\n",
        "                    epochs=80, # you can set this to a big number!\n",
        "                    batch_size=64,\n",
        "                    validation_data=(Xtest,ytest),\n",
        "                    shuffle=True,\n",
        "                    verbose=1)"
      ]
    },
    {
      "cell_type": "code",
      "execution_count": 201,
      "metadata": {},
      "outputs": [],
      "source": [
        "from keras_adabound import AdaBound\n",
        "optim = AdaBound(lr=1e-03,final_lr=0.1,gamma=1e-03)"
      ]
    },
    {
      "cell_type": "code",
      "execution_count": 209,
      "metadata": {},
      "outputs": [
        {
          "name": "stdout",
          "output_type": "stream",
          "text": [
            "Epoch 1/80\n",
            "3/3 [==============================] - 2s 118ms/step - loss: 0.2061 - auc: 0.9788 - val_loss: 0.9152 - val_auc: 0.8033\n",
            "Epoch 2/80\n",
            "3/3 [==============================] - 0s 20ms/step - loss: 0.2141 - auc: 0.9706 - val_loss: 0.8944 - val_auc: 0.8080\n",
            "Epoch 3/80\n",
            "3/3 [==============================] - 0s 38ms/step - loss: 0.2675 - auc: 0.9541 - val_loss: 0.8818 - val_auc: 0.8075\n",
            "Epoch 4/80\n",
            "3/3 [==============================] - 0s 21ms/step - loss: 0.2290 - auc: 0.9648 - val_loss: 0.8600 - val_auc: 0.8109\n",
            "Epoch 5/80\n",
            "3/3 [==============================] - 0s 22ms/step - loss: 0.2026 - auc: 0.9698 - val_loss: 0.7833 - val_auc: 0.8202\n",
            "Epoch 6/80\n",
            "3/3 [==============================] - 0s 21ms/step - loss: 0.1715 - auc: 0.9841 - val_loss: 0.7908 - val_auc: 0.8137\n",
            "Epoch 7/80\n",
            "3/3 [==============================] - 0s 20ms/step - loss: 0.1703 - auc: 0.9857 - val_loss: 0.7984 - val_auc: 0.8241\n",
            "Epoch 8/80\n",
            "3/3 [==============================] - 0s 21ms/step - loss: 0.2000 - auc: 0.9678 - val_loss: 0.8058 - val_auc: 0.8093\n",
            "Epoch 9/80\n",
            "3/3 [==============================] - 0s 20ms/step - loss: 0.2040 - auc: 0.9693 - val_loss: 0.8922 - val_auc: 0.8277\n",
            "Epoch 10/80\n",
            "3/3 [==============================] - 0s 20ms/step - loss: 0.1520 - auc: 0.9883 - val_loss: 0.8853 - val_auc: 0.8168\n",
            "Epoch 11/80\n",
            "3/3 [==============================] - 0s 20ms/step - loss: 0.1527 - auc: 0.9837 - val_loss: 0.8799 - val_auc: 0.8104\n",
            "Epoch 12/80\n",
            "3/3 [==============================] - 0s 21ms/step - loss: 0.1568 - auc: 0.9809 - val_loss: 0.9104 - val_auc: 0.8142\n",
            "Epoch 13/80\n",
            "3/3 [==============================] - 0s 21ms/step - loss: 0.1342 - auc: 0.9914 - val_loss: 0.9993 - val_auc: 0.8186\n",
            "Epoch 14/80\n",
            "3/3 [==============================] - 0s 20ms/step - loss: 0.1492 - auc: 0.9856 - val_loss: 1.1136 - val_auc: 0.8132\n",
            "Epoch 15/80\n",
            "3/3 [==============================] - 0s 20ms/step - loss: 0.3164 - auc: 0.9575 - val_loss: 2.4180 - val_auc: 0.7330\n",
            "Epoch 16/80\n",
            "3/3 [==============================] - 0s 27ms/step - loss: 0.8549 - auc: 0.8475 - val_loss: 1.0290 - val_auc: 0.6773\n",
            "Epoch 17/80\n",
            "3/3 [==============================] - 0s 21ms/step - loss: 0.4215 - auc: 0.9209 - val_loss: 0.6667 - val_auc: 0.7965\n",
            "Epoch 18/80\n",
            "3/3 [==============================] - 0s 20ms/step - loss: 0.3230 - auc: 0.9471 - val_loss: 0.6702 - val_auc: 0.8207\n",
            "Epoch 19/80\n",
            "3/3 [==============================] - 0s 20ms/step - loss: 0.3572 - auc: 0.9212 - val_loss: 0.5971 - val_auc: 0.8411\n",
            "Epoch 20/80\n",
            "3/3 [==============================] - 0s 21ms/step - loss: 0.2960 - auc: 0.9392 - val_loss: 0.5366 - val_auc: 0.8302\n",
            "Epoch 21/80\n",
            "3/3 [==============================] - 0s 20ms/step - loss: 0.3244 - auc: 0.9322 - val_loss: 0.5924 - val_auc: 0.8502\n",
            "Epoch 22/80\n",
            "3/3 [==============================] - 0s 20ms/step - loss: 0.2785 - auc: 0.9569 - val_loss: 0.5264 - val_auc: 0.8458\n",
            "Epoch 23/80\n",
            "3/3 [==============================] - 0s 21ms/step - loss: 0.2601 - auc: 0.9559 - val_loss: 0.5297 - val_auc: 0.8400\n",
            "Epoch 24/80\n",
            "3/3 [==============================] - 0s 21ms/step - loss: 0.2499 - auc: 0.9629 - val_loss: 0.6004 - val_auc: 0.8445\n",
            "Epoch 25/80\n",
            "3/3 [==============================] - 0s 21ms/step - loss: 0.2588 - auc: 0.9637 - val_loss: 0.6155 - val_auc: 0.8296\n",
            "Epoch 26/80\n",
            "3/3 [==============================] - 0s 24ms/step - loss: 0.2391 - auc: 0.9617 - val_loss: 0.6566 - val_auc: 0.8213\n",
            "Epoch 27/80\n",
            "3/3 [==============================] - 0s 21ms/step - loss: 0.2886 - auc: 0.9431 - val_loss: 0.8563 - val_auc: 0.8160\n",
            "Epoch 28/80\n",
            "3/3 [==============================] - 0s 21ms/step - loss: 0.3225 - auc: 0.9251 - val_loss: 0.6741 - val_auc: 0.8122\n",
            "Epoch 29/80\n",
            "3/3 [==============================] - 0s 21ms/step - loss: 0.2761 - auc: 0.9545 - val_loss: 0.6600 - val_auc: 0.8233\n",
            "Epoch 30/80\n",
            "3/3 [==============================] - 0s 20ms/step - loss: 0.2538 - auc: 0.9501 - val_loss: 0.6933 - val_auc: 0.8192\n",
            "Epoch 31/80\n",
            "3/3 [==============================] - 0s 21ms/step - loss: 0.2340 - auc: 0.9659 - val_loss: 0.6783 - val_auc: 0.8170\n",
            "Epoch 32/80\n",
            "3/3 [==============================] - 0s 20ms/step - loss: 0.2415 - auc: 0.9725 - val_loss: 0.6946 - val_auc: 0.8248\n",
            "Epoch 33/80\n",
            "3/3 [==============================] - 0s 21ms/step - loss: 0.2085 - auc: 0.9765 - val_loss: 0.7612 - val_auc: 0.8248\n",
            "Epoch 34/80\n",
            "3/3 [==============================] - 0s 21ms/step - loss: 0.2062 - auc: 0.9699 - val_loss: 0.7837 - val_auc: 0.8152\n",
            "Epoch 35/80\n",
            "3/3 [==============================] - 0s 21ms/step - loss: 0.1821 - auc: 0.9763 - val_loss: 0.8166 - val_auc: 0.8241\n",
            "Epoch 36/80\n",
            "3/3 [==============================] - 0s 21ms/step - loss: 0.2121 - auc: 0.9645 - val_loss: 0.8838 - val_auc: 0.8215\n",
            "Epoch 37/80\n",
            "3/3 [==============================] - 0s 22ms/step - loss: 0.2218 - auc: 0.9672 - val_loss: 0.7456 - val_auc: 0.8241\n",
            "Epoch 38/80\n",
            "3/3 [==============================] - 0s 21ms/step - loss: 0.2038 - auc: 0.9666 - val_loss: 0.7019 - val_auc: 0.8214\n",
            "Epoch 39/80\n",
            "3/3 [==============================] - 0s 20ms/step - loss: 0.2821 - auc: 0.9438 - val_loss: 0.6584 - val_auc: 0.8326\n",
            "Epoch 40/80\n",
            "3/3 [==============================] - 0s 20ms/step - loss: 0.2144 - auc: 0.9631 - val_loss: 0.6510 - val_auc: 0.8253\n",
            "Epoch 41/80\n",
            "3/3 [==============================] - 0s 21ms/step - loss: 0.1807 - auc: 0.9806 - val_loss: 0.7412 - val_auc: 0.8213\n",
            "Epoch 42/80\n",
            "3/3 [==============================] - 0s 20ms/step - loss: 0.1499 - auc: 0.9891 - val_loss: 0.8543 - val_auc: 0.8122\n",
            "Epoch 43/80\n",
            "3/3 [==============================] - 0s 20ms/step - loss: 0.1820 - auc: 0.9752 - val_loss: 0.9140 - val_auc: 0.8097\n",
            "Epoch 44/80\n",
            "3/3 [==============================] - 0s 20ms/step - loss: 0.1929 - auc: 0.9753 - val_loss: 0.8700 - val_auc: 0.8141\n",
            "Epoch 45/80\n",
            "3/3 [==============================] - 0s 21ms/step - loss: 0.2404 - auc: 0.9571 - val_loss: 0.8023 - val_auc: 0.8127\n",
            "Epoch 46/80\n",
            "3/3 [==============================] - 0s 20ms/step - loss: 0.1602 - auc: 0.9812 - val_loss: 0.7941 - val_auc: 0.8165\n",
            "Epoch 47/80\n",
            "3/3 [==============================] - 0s 21ms/step - loss: 0.1522 - auc: 0.9816 - val_loss: 0.8449 - val_auc: 0.8167\n",
            "Epoch 48/80\n",
            "3/3 [==============================] - 0s 21ms/step - loss: 0.1881 - auc: 0.9680 - val_loss: 0.9032 - val_auc: 0.8169\n",
            "Epoch 49/80\n",
            "3/3 [==============================] - 0s 20ms/step - loss: 0.1726 - auc: 0.9792 - val_loss: 0.9285 - val_auc: 0.8178\n",
            "Epoch 50/80\n",
            "3/3 [==============================] - 0s 21ms/step - loss: 0.1688 - auc: 0.9762 - val_loss: 0.9487 - val_auc: 0.8200\n",
            "Epoch 51/80\n",
            "3/3 [==============================] - 0s 21ms/step - loss: 0.1551 - auc: 0.9826 - val_loss: 0.9270 - val_auc: 0.8109\n",
            "Epoch 52/80\n",
            "3/3 [==============================] - 0s 20ms/step - loss: 0.1199 - auc: 0.9948 - val_loss: 0.9241 - val_auc: 0.8146\n",
            "Epoch 53/80\n",
            "3/3 [==============================] - 0s 20ms/step - loss: 0.1461 - auc: 0.9805 - val_loss: 1.0138 - val_auc: 0.8022\n",
            "Epoch 54/80\n",
            "3/3 [==============================] - 0s 26ms/step - loss: 0.1739 - auc: 0.9727 - val_loss: 1.2989 - val_auc: 0.7717\n",
            "Epoch 55/80\n",
            "3/3 [==============================] - 0s 21ms/step - loss: 0.3111 - auc: 0.9588 - val_loss: 1.1653 - val_auc: 0.7626\n",
            "Epoch 56/80\n",
            "3/3 [==============================] - 0s 21ms/step - loss: 0.2991 - auc: 0.9618 - val_loss: 1.0926 - val_auc: 0.7715\n",
            "Epoch 57/80\n",
            "3/3 [==============================] - 0s 21ms/step - loss: 0.2480 - auc: 0.9540 - val_loss: 1.0672 - val_auc: 0.7597\n",
            "Epoch 58/80\n",
            "3/3 [==============================] - 0s 20ms/step - loss: 0.2673 - auc: 0.9511 - val_loss: 0.8293 - val_auc: 0.8109\n",
            "Epoch 59/80\n",
            "3/3 [==============================] - 0s 22ms/step - loss: 0.3699 - auc: 0.9411 - val_loss: 0.8240 - val_auc: 0.8229\n",
            "Epoch 60/80\n",
            "3/3 [==============================] - 0s 21ms/step - loss: 0.3497 - auc: 0.9436 - val_loss: 0.6960 - val_auc: 0.8138\n",
            "Epoch 61/80\n",
            "3/3 [==============================] - 0s 21ms/step - loss: 0.2501 - auc: 0.9570 - val_loss: 0.5946 - val_auc: 0.8175\n",
            "Epoch 62/80\n",
            "3/3 [==============================] - 0s 21ms/step - loss: 0.2740 - auc: 0.9693 - val_loss: 0.6612 - val_auc: 0.8156\n",
            "Epoch 63/80\n",
            "3/3 [==============================] - 0s 48ms/step - loss: 0.2207 - auc: 0.9792 - val_loss: 0.7619 - val_auc: 0.8106\n",
            "Epoch 64/80\n",
            "3/3 [==============================] - 0s 22ms/step - loss: 0.2102 - auc: 0.9735 - val_loss: 0.8322 - val_auc: 0.8131\n",
            "Epoch 65/80\n",
            "3/3 [==============================] - 0s 21ms/step - loss: 0.1951 - auc: 0.9715 - val_loss: 0.8587 - val_auc: 0.8099\n",
            "Epoch 66/80\n",
            "3/3 [==============================] - 0s 27ms/step - loss: 0.2299 - auc: 0.9718 - val_loss: 0.8584 - val_auc: 0.8254\n",
            "Epoch 67/80\n",
            "3/3 [==============================] - 0s 22ms/step - loss: 0.1927 - auc: 0.9717 - val_loss: 0.8176 - val_auc: 0.8202\n",
            "Epoch 68/80\n",
            "3/3 [==============================] - 0s 21ms/step - loss: 0.1435 - auc: 0.9901 - val_loss: 0.8350 - val_auc: 0.8094\n",
            "Epoch 69/80\n",
            "3/3 [==============================] - 0s 21ms/step - loss: 0.1584 - auc: 0.9811 - val_loss: 0.8519 - val_auc: 0.8116\n",
            "Epoch 70/80\n",
            "3/3 [==============================] - 0s 21ms/step - loss: 0.1508 - auc: 0.9860 - val_loss: 0.8201 - val_auc: 0.8139\n",
            "Epoch 71/80\n",
            "3/3 [==============================] - 0s 21ms/step - loss: 0.1644 - auc: 0.9769 - val_loss: 0.8286 - val_auc: 0.8156\n",
            "Epoch 72/80\n",
            "3/3 [==============================] - 0s 22ms/step - loss: 0.1825 - auc: 0.9707 - val_loss: 0.8876 - val_auc: 0.8111\n",
            "Epoch 73/80\n",
            "3/3 [==============================] - 0s 21ms/step - loss: 0.1421 - auc: 0.9863 - val_loss: 0.9384 - val_auc: 0.8082\n",
            "Epoch 74/80\n",
            "3/3 [==============================] - 0s 21ms/step - loss: 0.1413 - auc: 0.9827 - val_loss: 1.0181 - val_auc: 0.8051\n",
            "Epoch 75/80\n",
            "3/3 [==============================] - 0s 22ms/step - loss: 0.1718 - auc: 0.9847 - val_loss: 0.9906 - val_auc: 0.8033\n",
            "Epoch 76/80\n",
            "3/3 [==============================] - 0s 23ms/step - loss: 0.1478 - auc: 0.9828 - val_loss: 0.9374 - val_auc: 0.8107\n",
            "Epoch 77/80\n",
            "3/3 [==============================] - 0s 22ms/step - loss: 0.1817 - auc: 0.9696 - val_loss: 0.9656 - val_auc: 0.8042\n",
            "Epoch 78/80\n",
            "3/3 [==============================] - 0s 21ms/step - loss: 0.1718 - auc: 0.9817 - val_loss: 0.8892 - val_auc: 0.8217\n",
            "Epoch 79/80\n",
            "3/3 [==============================] - 0s 21ms/step - loss: 0.1866 - auc: 0.9714 - val_loss: 0.9465 - val_auc: 0.8051\n",
            "Epoch 80/80\n",
            "3/3 [==============================] - 0s 22ms/step - loss: 0.1653 - auc: 0.9744 - val_loss: 0.9242 - val_auc: 0.8108\n"
          ]
        }
      ],
      "source": [
        "model.compile(optimizer=optim, \n",
        "              loss='binary_crossentropy',\n",
        "              metrics=['AUC'])\n",
        "\n",
        "# early stopping callback\n",
        "# This callback will stop the training when there is no improvement in  \n",
        "# the validation loss for 10 consecutive epochs.  \n",
        "# es = EarlyStopping(monitor='val_accuracy', \n",
        "#                                    mode='max', # don't minimize the accuracy!\n",
        "#                                    patience=10,\n",
        "#                                    restore_best_weights=True)\n",
        "\n",
        "# now we just update our model fit call\n",
        "history = model.fit(Xtrain_ros,\n",
        "                    ytrain_ros,\n",
        "                    epochs=80, # you can set this to a big number!\n",
        "                    batch_size=64,\n",
        "                    validation_data=(Xtest,ytest),\n",
        "                    shuffle=True,\n",
        "                    verbose=1)"
      ]
    },
    {
      "cell_type": "code",
      "execution_count": 210,
      "metadata": {},
      "outputs": [
        {
          "name": "stdout",
          "output_type": "stream",
          "text": [
            "34/34 [==============================] - 0s 1ms/step - loss: 1.7325 - auc: 0.8077\n"
          ]
        },
        {
          "data": {
            "text/plain": [
              "[1.7325280904769897, 0.807699978351593]"
            ]
          },
          "execution_count": 210,
          "metadata": {},
          "output_type": "execute_result"
        }
      ],
      "source": [
        "model.evaluate(Xtest_ros, ytest_ros,verbose=1)"
      ]
    },
    {
      "cell_type": "code",
      "execution_count": 211,
      "metadata": {},
      "outputs": [
        {
          "name": "stdout",
          "output_type": "stream",
          "text": [
            "7/7 [==============================] - 0s 3ms/step\n"
          ]
        }
      ],
      "source": [
        "pred = model.predict(test[cols])"
      ]
    },
    {
      "cell_type": "code",
      "execution_count": 212,
      "metadata": {},
      "outputs": [],
      "source": [
        "y_pred =(y_pred>0.5)"
      ]
    },
    {
      "cell_type": "code",
      "execution_count": 213,
      "metadata": {},
      "outputs": [],
      "source": [
        "sub_sample = []\n",
        "for val in y_pred:\n",
        "    if val[0] == True:\n",
        "        sub_sample.append(1)\n",
        "    else:\n",
        "        sub_sample.append(0)"
      ]
    },
    {
      "cell_type": "code",
      "execution_count": 214,
      "metadata": {},
      "outputs": [
        {
          "data": {
            "text/plain": [
              "0    132\n",
              "1     68\n",
              "Name: Class/ASD, dtype: int64"
            ]
          },
          "execution_count": 214,
          "metadata": {},
          "output_type": "execute_result"
        }
      ],
      "source": [
        "su = pd.DataFrame({'ID':id, 'Class/ASD':sub_sample})\n",
        "su['Class/ASD'].value_counts()"
      ]
    },
    {
      "cell_type": "markdown",
      "metadata": {},
      "source": []
    },
    {
      "cell_type": "code",
      "execution_count": null,
      "metadata": {},
      "outputs": [],
      "source": []
    }
  ],
  "metadata": {
    "colab": {
      "collapsed_sections": [],
      "name": "Autism Prediction",
      "provenance": []
    },
    "interpreter": {
      "hash": "b04433675b912dfe0330ddb4d6c305d9e7a9505251be72c375da270c3ae8a4d1"
    },
    "kernelspec": {
      "display_name": "Python 3.8.5 ('.venv': venv)",
      "language": "python",
      "name": "python3"
    },
    "language_info": {
      "codemirror_mode": {
        "name": "ipython",
        "version": 3
      },
      "file_extension": ".py",
      "mimetype": "text/x-python",
      "name": "python",
      "nbconvert_exporter": "python",
      "pygments_lexer": "ipython3",
      "version": "3.8.5"
    }
  },
  "nbformat": 4,
  "nbformat_minor": 0
}
